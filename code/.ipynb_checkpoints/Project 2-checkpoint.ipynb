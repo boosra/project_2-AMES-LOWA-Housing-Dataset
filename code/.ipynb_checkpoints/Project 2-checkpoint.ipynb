{
 "cells": [
  {
   "cell_type": "markdown",
   "metadata": {},
   "source": [
    "# Project 2 -  Ames Iowa: Alternative to the Boston Housing Data Set"
   ]
  },
  {
   "cell_type": "markdown",
   "metadata": {},
   "source": [
    "#### By: Najiha Boosra: [Github]()"
   ]
  },
  {
   "cell_type": "markdown",
   "metadata": {},
   "source": [
    "## Problem Statement"
   ]
  },
  {
   "cell_type": "markdown",
   "metadata": {},
   "source": [
    "For creating a regression model based on the Ames Housing Dataset. This model will predict the price of a house at sale.In this project, in particular, we will likely find that EDA, data cleaning,exploratory visualizations and finding RMSE as metric will constantly feed back into each other. If the purpose in building the model is simply to allow a typical buyer or real estate agent to sit down and estimate the selling price of a house, such transformations may be unnecessary or inappropriate for the task at hand.\n",
    "We strongly make this point in the situation where data are being analyzed for research purposes that will be shared with a larger audience and the primary and secondary stakeholders.\n"
   ]
  },
  {
   "cell_type": "markdown",
   "metadata": {},
   "source": [
    "## Executive Summary"
   ]
  },
  {
   "cell_type": "markdown",
   "metadata": {},
   "source": [
    "After Loading necessary Libraries we check our data for cleaning like finding null values, replacing properly them and dropping unnecessary columns. In EDA & feature engineering process we put our data to create graphs to compare selected items, also to know about outliers.After that in modeling part we use linear Regression model, Lasso, Ridge and find out train-test-split, cross val score , RMSE of the data.Then interpret and evaluate our models to select best one for data.And then we made a conclusion."
   ]
  },
  {
   "cell_type": "markdown",
   "metadata": {},
   "source": [
    "## Table of Contents"
   ]
  },
  {
   "cell_type": "markdown",
   "metadata": {},
   "source": [
    "- **[Loading Libraries](#Data-import-read)**  \n",
    "\n",
    "- **[Data Cleaning](#Data-Cleaning)**    \n",
    "\n",
    "- **[EDA](#EDA-Exploratory-Data-Analysis)**  \n",
    "\n",
    "- **[Modeling](#Modeling-Train-Test_Split-Baseline-Model)**  \n",
    "\n",
    "- **[Model Prep:Scaling](#Linear-Regression-Ridge-Lasso)**  \n",
    "\n",
    "- **[Model Selection](#Model-selection)** \n",
    "\n",
    "- **[Model & Evaluation](#Model-Evaluation)**\n",
    "\n",
    "- **[Conclusions and Recommendations](#Conclusions-and-Recommendations)**  \n",
    "\n",
    "- **[References](#Reference)**   \n",
    "\n",
    "- **[Kaggle Submission](#kaggle-submission)**"
   ]
  },
  {
   "cell_type": "markdown",
   "metadata": {},
   "source": [
    "## Loading Libraries"
   ]
  },
  {
   "cell_type": "code",
   "execution_count": 868,
   "metadata": {},
   "outputs": [],
   "source": [
    "import warnings\n",
    "warnings.filterwarnings(\"ignore\") \n",
    "import numpy as np\n",
    "import pandas as pd\n",
    "from sklearn.linear_model import LinearRegression, LassoCV, RidgeCV, Lasso, Ridge\n",
    "from sklearn.model_selection import train_test_split, cross_val_score, cross_val_predict\n",
    "from sklearn.metrics import mean_squared_error\n",
    "import matplotlib.pyplot as plt\n",
    "import seaborn as sns\n",
    "from sklearn.preprocessing import StandardScaler, PolynomialFeatures\n",
    "\n",
    "\n",
    "%matplotlib inline\n",
    "RANDOM_STATE = 90210"
   ]
  },
  {
   "cell_type": "markdown",
   "metadata": {},
   "source": [
    "Loading Data"
   ]
  },
  {
   "cell_type": "code",
   "execution_count": 869,
   "metadata": {},
   "outputs": [],
   "source": [
    "ames = pd.read_csv(\"../datasets/train.csv\")                   "
   ]
  },
  {
   "cell_type": "code",
   "execution_count": 870,
   "metadata": {
    "scrolled": false
   },
   "outputs": [
    {
     "data": {
      "text/html": [
       "<div>\n",
       "<style scoped>\n",
       "    .dataframe tbody tr th:only-of-type {\n",
       "        vertical-align: middle;\n",
       "    }\n",
       "\n",
       "    .dataframe tbody tr th {\n",
       "        vertical-align: top;\n",
       "    }\n",
       "\n",
       "    .dataframe thead th {\n",
       "        text-align: right;\n",
       "    }\n",
       "</style>\n",
       "<table border=\"1\" class=\"dataframe\">\n",
       "  <thead>\n",
       "    <tr style=\"text-align: right;\">\n",
       "      <th></th>\n",
       "      <th>Id</th>\n",
       "      <th>PID</th>\n",
       "      <th>MS SubClass</th>\n",
       "      <th>MS Zoning</th>\n",
       "      <th>Lot Frontage</th>\n",
       "      <th>Lot Area</th>\n",
       "      <th>Street</th>\n",
       "      <th>Alley</th>\n",
       "      <th>Lot Shape</th>\n",
       "      <th>Land Contour</th>\n",
       "      <th>...</th>\n",
       "      <th>Screen Porch</th>\n",
       "      <th>Pool Area</th>\n",
       "      <th>Pool QC</th>\n",
       "      <th>Fence</th>\n",
       "      <th>Misc Feature</th>\n",
       "      <th>Misc Val</th>\n",
       "      <th>Mo Sold</th>\n",
       "      <th>Yr Sold</th>\n",
       "      <th>Sale Type</th>\n",
       "      <th>SalePrice</th>\n",
       "    </tr>\n",
       "  </thead>\n",
       "  <tbody>\n",
       "    <tr>\n",
       "      <th>0</th>\n",
       "      <td>109</td>\n",
       "      <td>533352170</td>\n",
       "      <td>60</td>\n",
       "      <td>RL</td>\n",
       "      <td>NaN</td>\n",
       "      <td>13517</td>\n",
       "      <td>Pave</td>\n",
       "      <td>NaN</td>\n",
       "      <td>IR1</td>\n",
       "      <td>Lvl</td>\n",
       "      <td>...</td>\n",
       "      <td>0</td>\n",
       "      <td>0</td>\n",
       "      <td>NaN</td>\n",
       "      <td>NaN</td>\n",
       "      <td>NaN</td>\n",
       "      <td>0</td>\n",
       "      <td>3</td>\n",
       "      <td>2010</td>\n",
       "      <td>WD</td>\n",
       "      <td>130500</td>\n",
       "    </tr>\n",
       "    <tr>\n",
       "      <th>1</th>\n",
       "      <td>544</td>\n",
       "      <td>531379050</td>\n",
       "      <td>60</td>\n",
       "      <td>RL</td>\n",
       "      <td>43.0</td>\n",
       "      <td>11492</td>\n",
       "      <td>Pave</td>\n",
       "      <td>NaN</td>\n",
       "      <td>IR1</td>\n",
       "      <td>Lvl</td>\n",
       "      <td>...</td>\n",
       "      <td>0</td>\n",
       "      <td>0</td>\n",
       "      <td>NaN</td>\n",
       "      <td>NaN</td>\n",
       "      <td>NaN</td>\n",
       "      <td>0</td>\n",
       "      <td>4</td>\n",
       "      <td>2009</td>\n",
       "      <td>WD</td>\n",
       "      <td>220000</td>\n",
       "    </tr>\n",
       "    <tr>\n",
       "      <th>2</th>\n",
       "      <td>153</td>\n",
       "      <td>535304180</td>\n",
       "      <td>20</td>\n",
       "      <td>RL</td>\n",
       "      <td>68.0</td>\n",
       "      <td>7922</td>\n",
       "      <td>Pave</td>\n",
       "      <td>NaN</td>\n",
       "      <td>Reg</td>\n",
       "      <td>Lvl</td>\n",
       "      <td>...</td>\n",
       "      <td>0</td>\n",
       "      <td>0</td>\n",
       "      <td>NaN</td>\n",
       "      <td>NaN</td>\n",
       "      <td>NaN</td>\n",
       "      <td>0</td>\n",
       "      <td>1</td>\n",
       "      <td>2010</td>\n",
       "      <td>WD</td>\n",
       "      <td>109000</td>\n",
       "    </tr>\n",
       "    <tr>\n",
       "      <th>3</th>\n",
       "      <td>318</td>\n",
       "      <td>916386060</td>\n",
       "      <td>60</td>\n",
       "      <td>RL</td>\n",
       "      <td>73.0</td>\n",
       "      <td>9802</td>\n",
       "      <td>Pave</td>\n",
       "      <td>NaN</td>\n",
       "      <td>Reg</td>\n",
       "      <td>Lvl</td>\n",
       "      <td>...</td>\n",
       "      <td>0</td>\n",
       "      <td>0</td>\n",
       "      <td>NaN</td>\n",
       "      <td>NaN</td>\n",
       "      <td>NaN</td>\n",
       "      <td>0</td>\n",
       "      <td>4</td>\n",
       "      <td>2010</td>\n",
       "      <td>WD</td>\n",
       "      <td>174000</td>\n",
       "    </tr>\n",
       "    <tr>\n",
       "      <th>4</th>\n",
       "      <td>255</td>\n",
       "      <td>906425045</td>\n",
       "      <td>50</td>\n",
       "      <td>RL</td>\n",
       "      <td>82.0</td>\n",
       "      <td>14235</td>\n",
       "      <td>Pave</td>\n",
       "      <td>NaN</td>\n",
       "      <td>IR1</td>\n",
       "      <td>Lvl</td>\n",
       "      <td>...</td>\n",
       "      <td>0</td>\n",
       "      <td>0</td>\n",
       "      <td>NaN</td>\n",
       "      <td>NaN</td>\n",
       "      <td>NaN</td>\n",
       "      <td>0</td>\n",
       "      <td>3</td>\n",
       "      <td>2010</td>\n",
       "      <td>WD</td>\n",
       "      <td>138500</td>\n",
       "    </tr>\n",
       "  </tbody>\n",
       "</table>\n",
       "<p>5 rows × 81 columns</p>\n",
       "</div>"
      ],
      "text/plain": [
       "    Id        PID  MS SubClass MS Zoning  Lot Frontage  Lot Area Street Alley  \\\n",
       "0  109  533352170           60        RL           NaN     13517   Pave   NaN   \n",
       "1  544  531379050           60        RL          43.0     11492   Pave   NaN   \n",
       "2  153  535304180           20        RL          68.0      7922   Pave   NaN   \n",
       "3  318  916386060           60        RL          73.0      9802   Pave   NaN   \n",
       "4  255  906425045           50        RL          82.0     14235   Pave   NaN   \n",
       "\n",
       "  Lot Shape Land Contour  ... Screen Porch Pool Area Pool QC Fence  \\\n",
       "0       IR1          Lvl  ...            0         0     NaN   NaN   \n",
       "1       IR1          Lvl  ...            0         0     NaN   NaN   \n",
       "2       Reg          Lvl  ...            0         0     NaN   NaN   \n",
       "3       Reg          Lvl  ...            0         0     NaN   NaN   \n",
       "4       IR1          Lvl  ...            0         0     NaN   NaN   \n",
       "\n",
       "  Misc Feature Misc Val Mo Sold Yr Sold  Sale Type  SalePrice  \n",
       "0          NaN        0       3    2010        WD      130500  \n",
       "1          NaN        0       4    2009        WD      220000  \n",
       "2          NaN        0       1    2010        WD      109000  \n",
       "3          NaN        0       4    2010        WD      174000  \n",
       "4          NaN        0       3    2010        WD      138500  \n",
       "\n",
       "[5 rows x 81 columns]"
      ]
     },
     "execution_count": 870,
     "metadata": {},
     "output_type": "execute_result"
    }
   ],
   "source": [
    "ames.head()"
   ]
  },
  {
   "cell_type": "markdown",
   "metadata": {},
   "source": [
    " Shape of the dataset"
   ]
  },
  {
   "cell_type": "code",
   "execution_count": 871,
   "metadata": {},
   "outputs": [
    {
     "data": {
      "text/plain": [
       "(2051, 81)"
      ]
     },
     "execution_count": 871,
     "metadata": {},
     "output_type": "execute_result"
    }
   ],
   "source": [
    "ames.shape"
   ]
  },
  {
   "cell_type": "markdown",
   "metadata": {},
   "source": [
    "## Data Cleaning"
   ]
  },
  {
   "cell_type": "markdown",
   "metadata": {},
   "source": [
    "#### Checking data type"
   ]
  },
  {
   "cell_type": "code",
   "execution_count": 872,
   "metadata": {},
   "outputs": [
    {
     "data": {
      "text/plain": [
       "Id                int64\n",
       "PID               int64\n",
       "MS SubClass       int64\n",
       "MS Zoning        object\n",
       "Lot Frontage    float64\n",
       "                 ...   \n",
       "Misc Val          int64\n",
       "Mo Sold           int64\n",
       "Yr Sold           int64\n",
       "Sale Type        object\n",
       "SalePrice         int64\n",
       "Length: 81, dtype: object"
      ]
     },
     "execution_count": 872,
     "metadata": {},
     "output_type": "execute_result"
    }
   ],
   "source": [
    "ames.dtypes"
   ]
  },
  {
   "cell_type": "code",
   "execution_count": 873,
   "metadata": {},
   "outputs": [
    {
     "data": {
      "text/plain": [
       "(2051, 81)"
      ]
     },
     "execution_count": 873,
     "metadata": {},
     "output_type": "execute_result"
    }
   ],
   "source": [
    "ames.shape"
   ]
  },
  {
   "cell_type": "code",
   "execution_count": 874,
   "metadata": {},
   "outputs": [],
   "source": [
    "#Converting all columns to lowercase  and replace spaces in it\n",
    "ames.columns = ames.columns.str.lower().str.replace(' ', '_')"
   ]
  },
  {
   "cell_type": "code",
   "execution_count": 875,
   "metadata": {},
   "outputs": [
    {
     "data": {
      "text/plain": [
       "Index(['id', 'pid', 'ms_subclass', 'ms_zoning', 'lot_frontage', 'lot_area',\n",
       "       'street', 'alley', 'lot_shape', 'land_contour', 'utilities',\n",
       "       'lot_config', 'land_slope', 'neighborhood', 'condition_1',\n",
       "       'condition_2', 'bldg_type', 'house_style', 'overall_qual',\n",
       "       'overall_cond', 'year_built', 'year_remod/add', 'roof_style',\n",
       "       'roof_matl', 'exterior_1st', 'exterior_2nd', 'mas_vnr_type',\n",
       "       'mas_vnr_area', 'exter_qual', 'exter_cond', 'foundation', 'bsmt_qual',\n",
       "       'bsmt_cond', 'bsmt_exposure', 'bsmtfin_type_1', 'bsmtfin_sf_1',\n",
       "       'bsmtfin_type_2', 'bsmtfin_sf_2', 'bsmt_unf_sf', 'total_bsmt_sf',\n",
       "       'heating', 'heating_qc', 'central_air', 'electrical', '1st_flr_sf',\n",
       "       '2nd_flr_sf', 'low_qual_fin_sf', 'gr_liv_area', 'bsmt_full_bath',\n",
       "       'bsmt_half_bath', 'full_bath', 'half_bath', 'bedroom_abvgr',\n",
       "       'kitchen_abvgr', 'kitchen_qual', 'totrms_abvgrd', 'functional',\n",
       "       'fireplaces', 'fireplace_qu', 'garage_type', 'garage_yr_blt',\n",
       "       'garage_finish', 'garage_cars', 'garage_area', 'garage_qual',\n",
       "       'garage_cond', 'paved_drive', 'wood_deck_sf', 'open_porch_sf',\n",
       "       'enclosed_porch', '3ssn_porch', 'screen_porch', 'pool_area', 'pool_qc',\n",
       "       'fence', 'misc_feature', 'misc_val', 'mo_sold', 'yr_sold', 'sale_type',\n",
       "       'saleprice'],\n",
       "      dtype='object')"
      ]
     },
     "execution_count": 875,
     "metadata": {},
     "output_type": "execute_result"
    }
   ],
   "source": [
    "ames.columns"
   ]
  },
  {
   "cell_type": "code",
   "execution_count": 876,
   "metadata": {},
   "outputs": [],
   "source": [
    "#droping column id and pid \n",
    "ames.drop(columns= 'id', inplace= True)\n",
    "ames.drop(columns = 'pid', inplace = True)"
   ]
  },
  {
   "cell_type": "markdown",
   "metadata": {},
   "source": [
    "#### getting nulls"
   ]
  },
  {
   "cell_type": "code",
   "execution_count": 877,
   "metadata": {},
   "outputs": [
    {
     "data": {
      "text/plain": [
       "lot_frontage       330\n",
       "alley             1911\n",
       "mas_vnr_type        22\n",
       "mas_vnr_area        22\n",
       "bsmt_qual           55\n",
       "bsmt_cond           55\n",
       "bsmt_exposure       58\n",
       "bsmtfin_type_1      55\n",
       "bsmtfin_sf_1         1\n",
       "bsmtfin_type_2      56\n",
       "bsmtfin_sf_2         1\n",
       "bsmt_unf_sf          1\n",
       "total_bsmt_sf        1\n",
       "bsmt_full_bath       2\n",
       "bsmt_half_bath       2\n",
       "fireplace_qu      1000\n",
       "garage_type        113\n",
       "garage_yr_blt      114\n",
       "garage_finish      114\n",
       "garage_cars          1\n",
       "garage_area          1\n",
       "garage_qual        114\n",
       "garage_cond        114\n",
       "pool_qc           2042\n",
       "fence             1651\n",
       "misc_feature      1986\n",
       "dtype: int64"
      ]
     },
     "execution_count": 877,
     "metadata": {},
     "output_type": "execute_result"
    }
   ],
   "source": [
    "#listing null values columns\n",
    "features_null = ames.columns[ames.isna().any().tolist()]\n",
    "\n",
    "\n",
    "ames[features_null].isna().sum()"
   ]
  },
  {
   "cell_type": "code",
   "execution_count": 878,
   "metadata": {
    "scrolled": true
   },
   "outputs": [
    {
     "data": {
      "text/html": [
       "<div>\n",
       "<style scoped>\n",
       "    .dataframe tbody tr th:only-of-type {\n",
       "        vertical-align: middle;\n",
       "    }\n",
       "\n",
       "    .dataframe tbody tr th {\n",
       "        vertical-align: top;\n",
       "    }\n",
       "\n",
       "    .dataframe thead th {\n",
       "        text-align: right;\n",
       "    }\n",
       "</style>\n",
       "<table border=\"1\" class=\"dataframe\">\n",
       "  <thead>\n",
       "    <tr style=\"text-align: right;\">\n",
       "      <th></th>\n",
       "      <th>ms_subclass</th>\n",
       "      <th>ms_zoning</th>\n",
       "      <th>lot_frontage</th>\n",
       "      <th>lot_area</th>\n",
       "      <th>street</th>\n",
       "      <th>alley</th>\n",
       "      <th>lot_shape</th>\n",
       "      <th>land_contour</th>\n",
       "      <th>utilities</th>\n",
       "      <th>lot_config</th>\n",
       "      <th>...</th>\n",
       "      <th>screen_porch</th>\n",
       "      <th>pool_area</th>\n",
       "      <th>pool_qc</th>\n",
       "      <th>fence</th>\n",
       "      <th>misc_feature</th>\n",
       "      <th>misc_val</th>\n",
       "      <th>mo_sold</th>\n",
       "      <th>yr_sold</th>\n",
       "      <th>sale_type</th>\n",
       "      <th>saleprice</th>\n",
       "    </tr>\n",
       "  </thead>\n",
       "  <tbody>\n",
       "  </tbody>\n",
       "</table>\n",
       "<p>0 rows × 79 columns</p>\n",
       "</div>"
      ],
      "text/plain": [
       "Empty DataFrame\n",
       "Columns: [ms_subclass, ms_zoning, lot_frontage, lot_area, street, alley, lot_shape, land_contour, utilities, lot_config, land_slope, neighborhood, condition_1, condition_2, bldg_type, house_style, overall_qual, overall_cond, year_built, year_remod/add, roof_style, roof_matl, exterior_1st, exterior_2nd, mas_vnr_type, mas_vnr_area, exter_qual, exter_cond, foundation, bsmt_qual, bsmt_cond, bsmt_exposure, bsmtfin_type_1, bsmtfin_sf_1, bsmtfin_type_2, bsmtfin_sf_2, bsmt_unf_sf, total_bsmt_sf, heating, heating_qc, central_air, electrical, 1st_flr_sf, 2nd_flr_sf, low_qual_fin_sf, gr_liv_area, bsmt_full_bath, bsmt_half_bath, full_bath, half_bath, bedroom_abvgr, kitchen_abvgr, kitchen_qual, totrms_abvgrd, functional, fireplaces, fireplace_qu, garage_type, garage_yr_blt, garage_finish, garage_cars, garage_area, garage_qual, garage_cond, paved_drive, wood_deck_sf, open_porch_sf, enclosed_porch, 3ssn_porch, screen_porch, pool_area, pool_qc, fence, misc_feature, misc_val, mo_sold, yr_sold, sale_type, saleprice]\n",
       "Index: []\n",
       "\n",
       "[0 rows x 79 columns]"
      ]
     },
     "execution_count": 878,
     "metadata": {},
     "output_type": "execute_result"
    }
   ],
   "source": [
    "#checking dublicate columns\n",
    "ames[ames.duplicated()]"
   ]
  },
  {
   "cell_type": "markdown",
   "metadata": {},
   "source": [
    "There is no duplicate columns."
   ]
  },
  {
   "cell_type": "markdown",
   "metadata": {},
   "source": [
    "#### working with most null values"
   ]
  },
  {
   "cell_type": "code",
   "execution_count": 879,
   "metadata": {},
   "outputs": [],
   "source": [
    "# Saiful Hasan help me out\n",
    "def feature_quality(quality): \n",
    "    if quality == 'Po':\n",
    "        return 1\n",
    "    elif quality == 'Fa':\n",
    "        return 2\n",
    "    elif quality == 'TA':\n",
    "        return 3\n",
    "    elif quality == 'Gd':\n",
    "        return 4\n",
    "    elif quality == 'Ex':\n",
    "        return 5\n",
    "    else:\n",
    "        return 0"
   ]
  },
  {
   "cell_type": "code",
   "execution_count": 880,
   "metadata": {},
   "outputs": [],
   "source": [
    "ames['heating_qc'] = ames['heating_qc'].map(feature_quality)\n",
    "ames['exter_qual'] = ames['exter_qual'].map(feature_quality)\n",
    "ames['bsmt_qual'] = ames['bsmt_qual'].map(feature_quality)\n",
    "ames['kitchen_qual'] = ames['kitchen_qual'].map(feature_quality)\n",
    "ames['fireplace_qu'] = ames['fireplace_qu'].map(feature_quality)\n",
    "ames['garage_qual'] = ames['garage_qual'].map(feature_quality)\n",
    "ames['pool_qc'] = ames['pool_qc'].map(feature_quality)\n",
    "ames['bsmt_cond'] = ames['bsmt_cond'].map(feature_quality)\n",
    "ames['garage_cond'] = ames['garage_cond'].map(feature_quality)"
   ]
  },
  {
   "cell_type": "code",
   "execution_count": 881,
   "metadata": {},
   "outputs": [],
   "source": [
    "ames['alley'] = ames['alley'].map({np.nan: 0, 'Pave':'Pave', 'Grvl':'Grvl'})\n",
    "ames['bsmt_exposure'] = ames['bsmt_exposure'].map({np.nan: 0, 'No':1, 'Mn':2, 'Av':3, 'Gd':4})\n",
    "ames['bsmtfin_type_1'] = ames['bsmtfin_type_1'].map({np.nan: 0, 'Unf':1, 'LwQ':2, 'Rec':3, 'BLQ':4, 'ALQ':5, 'GLQ':6})\n",
    "ames['bsmtfin_type_2'] = ames['bsmtfin_type_2'].map({np.nan: 0, 'Unf':1, 'LwQ':2, 'Rec':3, 'BLQ':4, 'ALQ':5, 'GLQ':6})\n",
    "ames['garage_type'] = ames['garage_type'].map({np.nan: 0, 'Detchd':'Detchd', 'CarPort':'CarPort', 'BuiltIn':'BuiltIn', 'Basment':'Basment', 'Attchd':'Attchd', '2Types':'2Types'})\n",
    "ames['garage_finish'] = ames['garage_finish'].map({np.nan: 0, 'Unf':1, 'RFn':2, 'Fin':3})\n",
    "ames['fence'] = ames['fence'].map({np.nan: 0, 'MnWw':'MnWw', 'GdWo':'GdWo', 'MnPrv':'MnPrv', 'GdPrv':'GdPrv'})\n",
    "ames['misc_feature'] = ames['misc_feature'].map({np.nan: 0, 'TenC':'TenC', 'Shed':'Shed', 'Othr':'Othr', 'Gar2':'Gar2', 'Elev':'Elev'})\n",
    "ames['lot_shape'] = ames['lot_shape'].map({'Reg':'Reg', 'IR1':'IR1', 'IR2':'IR2', 'IR3':'IR3'})"
   ]
  },
  {
   "cell_type": "code",
   "execution_count": 882,
   "metadata": {},
   "outputs": [
    {
     "data": {
      "text/html": [
       "<div>\n",
       "<style scoped>\n",
       "    .dataframe tbody tr th:only-of-type {\n",
       "        vertical-align: middle;\n",
       "    }\n",
       "\n",
       "    .dataframe tbody tr th {\n",
       "        vertical-align: top;\n",
       "    }\n",
       "\n",
       "    .dataframe thead th {\n",
       "        text-align: right;\n",
       "    }\n",
       "</style>\n",
       "<table border=\"1\" class=\"dataframe\">\n",
       "  <thead>\n",
       "    <tr style=\"text-align: right;\">\n",
       "      <th></th>\n",
       "      <th>ms_subclass</th>\n",
       "      <th>ms_zoning</th>\n",
       "      <th>lot_frontage</th>\n",
       "      <th>lot_area</th>\n",
       "      <th>street</th>\n",
       "      <th>alley</th>\n",
       "      <th>lot_shape</th>\n",
       "      <th>land_contour</th>\n",
       "      <th>utilities</th>\n",
       "      <th>lot_config</th>\n",
       "      <th>...</th>\n",
       "      <th>screen_porch</th>\n",
       "      <th>pool_area</th>\n",
       "      <th>pool_qc</th>\n",
       "      <th>fence</th>\n",
       "      <th>misc_feature</th>\n",
       "      <th>misc_val</th>\n",
       "      <th>mo_sold</th>\n",
       "      <th>yr_sold</th>\n",
       "      <th>sale_type</th>\n",
       "      <th>saleprice</th>\n",
       "    </tr>\n",
       "  </thead>\n",
       "  <tbody>\n",
       "    <tr>\n",
       "      <th>0</th>\n",
       "      <td>60</td>\n",
       "      <td>RL</td>\n",
       "      <td>NaN</td>\n",
       "      <td>13517</td>\n",
       "      <td>Pave</td>\n",
       "      <td>0</td>\n",
       "      <td>IR1</td>\n",
       "      <td>Lvl</td>\n",
       "      <td>AllPub</td>\n",
       "      <td>CulDSac</td>\n",
       "      <td>...</td>\n",
       "      <td>0</td>\n",
       "      <td>0</td>\n",
       "      <td>0</td>\n",
       "      <td>0</td>\n",
       "      <td>0</td>\n",
       "      <td>0</td>\n",
       "      <td>3</td>\n",
       "      <td>2010</td>\n",
       "      <td>WD</td>\n",
       "      <td>130500</td>\n",
       "    </tr>\n",
       "    <tr>\n",
       "      <th>1</th>\n",
       "      <td>60</td>\n",
       "      <td>RL</td>\n",
       "      <td>43.0</td>\n",
       "      <td>11492</td>\n",
       "      <td>Pave</td>\n",
       "      <td>0</td>\n",
       "      <td>IR1</td>\n",
       "      <td>Lvl</td>\n",
       "      <td>AllPub</td>\n",
       "      <td>CulDSac</td>\n",
       "      <td>...</td>\n",
       "      <td>0</td>\n",
       "      <td>0</td>\n",
       "      <td>0</td>\n",
       "      <td>0</td>\n",
       "      <td>0</td>\n",
       "      <td>0</td>\n",
       "      <td>4</td>\n",
       "      <td>2009</td>\n",
       "      <td>WD</td>\n",
       "      <td>220000</td>\n",
       "    </tr>\n",
       "    <tr>\n",
       "      <th>2</th>\n",
       "      <td>20</td>\n",
       "      <td>RL</td>\n",
       "      <td>68.0</td>\n",
       "      <td>7922</td>\n",
       "      <td>Pave</td>\n",
       "      <td>0</td>\n",
       "      <td>Reg</td>\n",
       "      <td>Lvl</td>\n",
       "      <td>AllPub</td>\n",
       "      <td>Inside</td>\n",
       "      <td>...</td>\n",
       "      <td>0</td>\n",
       "      <td>0</td>\n",
       "      <td>0</td>\n",
       "      <td>0</td>\n",
       "      <td>0</td>\n",
       "      <td>0</td>\n",
       "      <td>1</td>\n",
       "      <td>2010</td>\n",
       "      <td>WD</td>\n",
       "      <td>109000</td>\n",
       "    </tr>\n",
       "    <tr>\n",
       "      <th>3</th>\n",
       "      <td>60</td>\n",
       "      <td>RL</td>\n",
       "      <td>73.0</td>\n",
       "      <td>9802</td>\n",
       "      <td>Pave</td>\n",
       "      <td>0</td>\n",
       "      <td>Reg</td>\n",
       "      <td>Lvl</td>\n",
       "      <td>AllPub</td>\n",
       "      <td>Inside</td>\n",
       "      <td>...</td>\n",
       "      <td>0</td>\n",
       "      <td>0</td>\n",
       "      <td>0</td>\n",
       "      <td>0</td>\n",
       "      <td>0</td>\n",
       "      <td>0</td>\n",
       "      <td>4</td>\n",
       "      <td>2010</td>\n",
       "      <td>WD</td>\n",
       "      <td>174000</td>\n",
       "    </tr>\n",
       "    <tr>\n",
       "      <th>4</th>\n",
       "      <td>50</td>\n",
       "      <td>RL</td>\n",
       "      <td>82.0</td>\n",
       "      <td>14235</td>\n",
       "      <td>Pave</td>\n",
       "      <td>0</td>\n",
       "      <td>IR1</td>\n",
       "      <td>Lvl</td>\n",
       "      <td>AllPub</td>\n",
       "      <td>Inside</td>\n",
       "      <td>...</td>\n",
       "      <td>0</td>\n",
       "      <td>0</td>\n",
       "      <td>0</td>\n",
       "      <td>0</td>\n",
       "      <td>0</td>\n",
       "      <td>0</td>\n",
       "      <td>3</td>\n",
       "      <td>2010</td>\n",
       "      <td>WD</td>\n",
       "      <td>138500</td>\n",
       "    </tr>\n",
       "  </tbody>\n",
       "</table>\n",
       "<p>5 rows × 79 columns</p>\n",
       "</div>"
      ],
      "text/plain": [
       "   ms_subclass ms_zoning  lot_frontage  lot_area street alley lot_shape  \\\n",
       "0           60        RL           NaN     13517   Pave     0       IR1   \n",
       "1           60        RL          43.0     11492   Pave     0       IR1   \n",
       "2           20        RL          68.0      7922   Pave     0       Reg   \n",
       "3           60        RL          73.0      9802   Pave     0       Reg   \n",
       "4           50        RL          82.0     14235   Pave     0       IR1   \n",
       "\n",
       "  land_contour utilities lot_config  ... screen_porch pool_area pool_qc fence  \\\n",
       "0          Lvl    AllPub    CulDSac  ...            0         0       0     0   \n",
       "1          Lvl    AllPub    CulDSac  ...            0         0       0     0   \n",
       "2          Lvl    AllPub     Inside  ...            0         0       0     0   \n",
       "3          Lvl    AllPub     Inside  ...            0         0       0     0   \n",
       "4          Lvl    AllPub     Inside  ...            0         0       0     0   \n",
       "\n",
       "  misc_feature misc_val  mo_sold  yr_sold  sale_type  saleprice  \n",
       "0            0        0        3     2010        WD      130500  \n",
       "1            0        0        4     2009        WD      220000  \n",
       "2            0        0        1     2010        WD      109000  \n",
       "3            0        0        4     2010        WD      174000  \n",
       "4            0        0        3     2010        WD      138500  \n",
       "\n",
       "[5 rows x 79 columns]"
      ]
     },
     "execution_count": 882,
     "metadata": {},
     "output_type": "execute_result"
    }
   ],
   "source": [
    "ames.head()"
   ]
  },
  {
   "cell_type": "code",
   "execution_count": 883,
   "metadata": {
    "scrolled": false
   },
   "outputs": [
    {
     "data": {
      "text/html": [
       "<div>\n",
       "<style scoped>\n",
       "    .dataframe tbody tr th:only-of-type {\n",
       "        vertical-align: middle;\n",
       "    }\n",
       "\n",
       "    .dataframe tbody tr th {\n",
       "        vertical-align: top;\n",
       "    }\n",
       "\n",
       "    .dataframe thead th {\n",
       "        text-align: right;\n",
       "    }\n",
       "</style>\n",
       "<table border=\"1\" class=\"dataframe\">\n",
       "  <thead>\n",
       "    <tr style=\"text-align: right;\">\n",
       "      <th></th>\n",
       "      <th>ms_subclass</th>\n",
       "      <th>ms_zoning</th>\n",
       "      <th>lot_frontage</th>\n",
       "      <th>lot_area</th>\n",
       "      <th>street</th>\n",
       "      <th>alley</th>\n",
       "      <th>lot_shape</th>\n",
       "      <th>land_contour</th>\n",
       "      <th>utilities</th>\n",
       "      <th>lot_config</th>\n",
       "      <th>...</th>\n",
       "      <th>screen_porch</th>\n",
       "      <th>pool_area</th>\n",
       "      <th>pool_qc</th>\n",
       "      <th>fence</th>\n",
       "      <th>misc_feature</th>\n",
       "      <th>misc_val</th>\n",
       "      <th>mo_sold</th>\n",
       "      <th>yr_sold</th>\n",
       "      <th>sale_type</th>\n",
       "      <th>saleprice</th>\n",
       "    </tr>\n",
       "  </thead>\n",
       "  <tbody>\n",
       "    <tr>\n",
       "      <th>0</th>\n",
       "      <td>60</td>\n",
       "      <td>RL</td>\n",
       "      <td>NaN</td>\n",
       "      <td>13517</td>\n",
       "      <td>Pave</td>\n",
       "      <td>0</td>\n",
       "      <td>IR1</td>\n",
       "      <td>Lvl</td>\n",
       "      <td>AllPub</td>\n",
       "      <td>CulDSac</td>\n",
       "      <td>...</td>\n",
       "      <td>0</td>\n",
       "      <td>0</td>\n",
       "      <td>0</td>\n",
       "      <td>0</td>\n",
       "      <td>0</td>\n",
       "      <td>0</td>\n",
       "      <td>3</td>\n",
       "      <td>2010</td>\n",
       "      <td>WD</td>\n",
       "      <td>130500</td>\n",
       "    </tr>\n",
       "    <tr>\n",
       "      <th>1</th>\n",
       "      <td>60</td>\n",
       "      <td>RL</td>\n",
       "      <td>43.0</td>\n",
       "      <td>11492</td>\n",
       "      <td>Pave</td>\n",
       "      <td>0</td>\n",
       "      <td>IR1</td>\n",
       "      <td>Lvl</td>\n",
       "      <td>AllPub</td>\n",
       "      <td>CulDSac</td>\n",
       "      <td>...</td>\n",
       "      <td>0</td>\n",
       "      <td>0</td>\n",
       "      <td>0</td>\n",
       "      <td>0</td>\n",
       "      <td>0</td>\n",
       "      <td>0</td>\n",
       "      <td>4</td>\n",
       "      <td>2009</td>\n",
       "      <td>WD</td>\n",
       "      <td>220000</td>\n",
       "    </tr>\n",
       "    <tr>\n",
       "      <th>2</th>\n",
       "      <td>20</td>\n",
       "      <td>RL</td>\n",
       "      <td>68.0</td>\n",
       "      <td>7922</td>\n",
       "      <td>Pave</td>\n",
       "      <td>0</td>\n",
       "      <td>Reg</td>\n",
       "      <td>Lvl</td>\n",
       "      <td>AllPub</td>\n",
       "      <td>Inside</td>\n",
       "      <td>...</td>\n",
       "      <td>0</td>\n",
       "      <td>0</td>\n",
       "      <td>0</td>\n",
       "      <td>0</td>\n",
       "      <td>0</td>\n",
       "      <td>0</td>\n",
       "      <td>1</td>\n",
       "      <td>2010</td>\n",
       "      <td>WD</td>\n",
       "      <td>109000</td>\n",
       "    </tr>\n",
       "    <tr>\n",
       "      <th>3</th>\n",
       "      <td>60</td>\n",
       "      <td>RL</td>\n",
       "      <td>73.0</td>\n",
       "      <td>9802</td>\n",
       "      <td>Pave</td>\n",
       "      <td>0</td>\n",
       "      <td>Reg</td>\n",
       "      <td>Lvl</td>\n",
       "      <td>AllPub</td>\n",
       "      <td>Inside</td>\n",
       "      <td>...</td>\n",
       "      <td>0</td>\n",
       "      <td>0</td>\n",
       "      <td>0</td>\n",
       "      <td>0</td>\n",
       "      <td>0</td>\n",
       "      <td>0</td>\n",
       "      <td>4</td>\n",
       "      <td>2010</td>\n",
       "      <td>WD</td>\n",
       "      <td>174000</td>\n",
       "    </tr>\n",
       "    <tr>\n",
       "      <th>4</th>\n",
       "      <td>50</td>\n",
       "      <td>RL</td>\n",
       "      <td>82.0</td>\n",
       "      <td>14235</td>\n",
       "      <td>Pave</td>\n",
       "      <td>0</td>\n",
       "      <td>IR1</td>\n",
       "      <td>Lvl</td>\n",
       "      <td>AllPub</td>\n",
       "      <td>Inside</td>\n",
       "      <td>...</td>\n",
       "      <td>0</td>\n",
       "      <td>0</td>\n",
       "      <td>0</td>\n",
       "      <td>0</td>\n",
       "      <td>0</td>\n",
       "      <td>0</td>\n",
       "      <td>3</td>\n",
       "      <td>2010</td>\n",
       "      <td>WD</td>\n",
       "      <td>138500</td>\n",
       "    </tr>\n",
       "  </tbody>\n",
       "</table>\n",
       "<p>5 rows × 79 columns</p>\n",
       "</div>"
      ],
      "text/plain": [
       "   ms_subclass ms_zoning  lot_frontage  lot_area street alley lot_shape  \\\n",
       "0           60        RL           NaN     13517   Pave     0       IR1   \n",
       "1           60        RL          43.0     11492   Pave     0       IR1   \n",
       "2           20        RL          68.0      7922   Pave     0       Reg   \n",
       "3           60        RL          73.0      9802   Pave     0       Reg   \n",
       "4           50        RL          82.0     14235   Pave     0       IR1   \n",
       "\n",
       "  land_contour utilities lot_config  ... screen_porch pool_area pool_qc fence  \\\n",
       "0          Lvl    AllPub    CulDSac  ...            0         0       0     0   \n",
       "1          Lvl    AllPub    CulDSac  ...            0         0       0     0   \n",
       "2          Lvl    AllPub     Inside  ...            0         0       0     0   \n",
       "3          Lvl    AllPub     Inside  ...            0         0       0     0   \n",
       "4          Lvl    AllPub     Inside  ...            0         0       0     0   \n",
       "\n",
       "  misc_feature misc_val  mo_sold  yr_sold  sale_type  saleprice  \n",
       "0            0        0        3     2010        WD      130500  \n",
       "1            0        0        4     2009        WD      220000  \n",
       "2            0        0        1     2010        WD      109000  \n",
       "3            0        0        4     2010        WD      174000  \n",
       "4            0        0        3     2010        WD      138500  \n",
       "\n",
       "[5 rows x 79 columns]"
      ]
     },
     "execution_count": 883,
     "metadata": {},
     "output_type": "execute_result"
    }
   ],
   "source": [
    "ames.head()"
   ]
  },
  {
   "cell_type": "code",
   "execution_count": 884,
   "metadata": {
    "scrolled": true
   },
   "outputs": [
    {
     "data": {
      "text/html": [
       "<div>\n",
       "<style scoped>\n",
       "    .dataframe tbody tr th:only-of-type {\n",
       "        vertical-align: middle;\n",
       "    }\n",
       "\n",
       "    .dataframe tbody tr th {\n",
       "        vertical-align: top;\n",
       "    }\n",
       "\n",
       "    .dataframe thead th {\n",
       "        text-align: right;\n",
       "    }\n",
       "</style>\n",
       "<table border=\"1\" class=\"dataframe\">\n",
       "  <thead>\n",
       "    <tr style=\"text-align: right;\">\n",
       "      <th></th>\n",
       "      <th>ms_subclass</th>\n",
       "      <th>lot_frontage</th>\n",
       "      <th>lot_area</th>\n",
       "      <th>overall_qual</th>\n",
       "      <th>overall_cond</th>\n",
       "      <th>year_built</th>\n",
       "      <th>year_remod/add</th>\n",
       "      <th>mas_vnr_area</th>\n",
       "      <th>exter_qual</th>\n",
       "      <th>bsmt_qual</th>\n",
       "      <th>...</th>\n",
       "      <th>open_porch_sf</th>\n",
       "      <th>enclosed_porch</th>\n",
       "      <th>3ssn_porch</th>\n",
       "      <th>screen_porch</th>\n",
       "      <th>pool_area</th>\n",
       "      <th>pool_qc</th>\n",
       "      <th>misc_val</th>\n",
       "      <th>mo_sold</th>\n",
       "      <th>yr_sold</th>\n",
       "      <th>saleprice</th>\n",
       "    </tr>\n",
       "  </thead>\n",
       "  <tbody>\n",
       "    <tr>\n",
       "      <th>count</th>\n",
       "      <td>2051.000000</td>\n",
       "      <td>1721.000000</td>\n",
       "      <td>2051.000000</td>\n",
       "      <td>2051.000000</td>\n",
       "      <td>2051.000000</td>\n",
       "      <td>2051.000000</td>\n",
       "      <td>2051.000000</td>\n",
       "      <td>2029.000000</td>\n",
       "      <td>2051.000000</td>\n",
       "      <td>2051.000000</td>\n",
       "      <td>...</td>\n",
       "      <td>2051.000000</td>\n",
       "      <td>2051.000000</td>\n",
       "      <td>2051.000000</td>\n",
       "      <td>2051.000000</td>\n",
       "      <td>2051.000000</td>\n",
       "      <td>2051.000000</td>\n",
       "      <td>2051.000000</td>\n",
       "      <td>2051.000000</td>\n",
       "      <td>2051.000000</td>\n",
       "      <td>2051.000000</td>\n",
       "    </tr>\n",
       "    <tr>\n",
       "      <th>mean</th>\n",
       "      <td>57.008776</td>\n",
       "      <td>69.055200</td>\n",
       "      <td>10065.208191</td>\n",
       "      <td>6.112140</td>\n",
       "      <td>5.562165</td>\n",
       "      <td>1971.708922</td>\n",
       "      <td>1984.190151</td>\n",
       "      <td>99.695909</td>\n",
       "      <td>3.406143</td>\n",
       "      <td>3.490005</td>\n",
       "      <td>...</td>\n",
       "      <td>47.556802</td>\n",
       "      <td>22.571916</td>\n",
       "      <td>2.591419</td>\n",
       "      <td>16.511458</td>\n",
       "      <td>2.397855</td>\n",
       "      <td>0.015115</td>\n",
       "      <td>51.574354</td>\n",
       "      <td>6.219893</td>\n",
       "      <td>2007.775719</td>\n",
       "      <td>181469.701609</td>\n",
       "    </tr>\n",
       "    <tr>\n",
       "      <th>std</th>\n",
       "      <td>42.824223</td>\n",
       "      <td>23.260653</td>\n",
       "      <td>6742.488909</td>\n",
       "      <td>1.426271</td>\n",
       "      <td>1.104497</td>\n",
       "      <td>30.177889</td>\n",
       "      <td>21.036250</td>\n",
       "      <td>174.963129</td>\n",
       "      <td>0.587962</td>\n",
       "      <td>0.901637</td>\n",
       "      <td>...</td>\n",
       "      <td>66.747241</td>\n",
       "      <td>59.845110</td>\n",
       "      <td>25.229615</td>\n",
       "      <td>57.374204</td>\n",
       "      <td>37.782570</td>\n",
       "      <td>0.236366</td>\n",
       "      <td>573.393985</td>\n",
       "      <td>2.744736</td>\n",
       "      <td>1.312014</td>\n",
       "      <td>79258.659352</td>\n",
       "    </tr>\n",
       "    <tr>\n",
       "      <th>min</th>\n",
       "      <td>20.000000</td>\n",
       "      <td>21.000000</td>\n",
       "      <td>1300.000000</td>\n",
       "      <td>1.000000</td>\n",
       "      <td>1.000000</td>\n",
       "      <td>1872.000000</td>\n",
       "      <td>1950.000000</td>\n",
       "      <td>0.000000</td>\n",
       "      <td>2.000000</td>\n",
       "      <td>0.000000</td>\n",
       "      <td>...</td>\n",
       "      <td>0.000000</td>\n",
       "      <td>0.000000</td>\n",
       "      <td>0.000000</td>\n",
       "      <td>0.000000</td>\n",
       "      <td>0.000000</td>\n",
       "      <td>0.000000</td>\n",
       "      <td>0.000000</td>\n",
       "      <td>1.000000</td>\n",
       "      <td>2006.000000</td>\n",
       "      <td>12789.000000</td>\n",
       "    </tr>\n",
       "    <tr>\n",
       "      <th>25%</th>\n",
       "      <td>20.000000</td>\n",
       "      <td>58.000000</td>\n",
       "      <td>7500.000000</td>\n",
       "      <td>5.000000</td>\n",
       "      <td>5.000000</td>\n",
       "      <td>1953.500000</td>\n",
       "      <td>1964.500000</td>\n",
       "      <td>0.000000</td>\n",
       "      <td>3.000000</td>\n",
       "      <td>3.000000</td>\n",
       "      <td>...</td>\n",
       "      <td>0.000000</td>\n",
       "      <td>0.000000</td>\n",
       "      <td>0.000000</td>\n",
       "      <td>0.000000</td>\n",
       "      <td>0.000000</td>\n",
       "      <td>0.000000</td>\n",
       "      <td>0.000000</td>\n",
       "      <td>4.000000</td>\n",
       "      <td>2007.000000</td>\n",
       "      <td>129825.000000</td>\n",
       "    </tr>\n",
       "    <tr>\n",
       "      <th>50%</th>\n",
       "      <td>50.000000</td>\n",
       "      <td>68.000000</td>\n",
       "      <td>9430.000000</td>\n",
       "      <td>6.000000</td>\n",
       "      <td>5.000000</td>\n",
       "      <td>1974.000000</td>\n",
       "      <td>1993.000000</td>\n",
       "      <td>0.000000</td>\n",
       "      <td>3.000000</td>\n",
       "      <td>4.000000</td>\n",
       "      <td>...</td>\n",
       "      <td>27.000000</td>\n",
       "      <td>0.000000</td>\n",
       "      <td>0.000000</td>\n",
       "      <td>0.000000</td>\n",
       "      <td>0.000000</td>\n",
       "      <td>0.000000</td>\n",
       "      <td>0.000000</td>\n",
       "      <td>6.000000</td>\n",
       "      <td>2008.000000</td>\n",
       "      <td>162500.000000</td>\n",
       "    </tr>\n",
       "    <tr>\n",
       "      <th>75%</th>\n",
       "      <td>70.000000</td>\n",
       "      <td>80.000000</td>\n",
       "      <td>11513.500000</td>\n",
       "      <td>7.000000</td>\n",
       "      <td>6.000000</td>\n",
       "      <td>2001.000000</td>\n",
       "      <td>2004.000000</td>\n",
       "      <td>161.000000</td>\n",
       "      <td>4.000000</td>\n",
       "      <td>4.000000</td>\n",
       "      <td>...</td>\n",
       "      <td>70.000000</td>\n",
       "      <td>0.000000</td>\n",
       "      <td>0.000000</td>\n",
       "      <td>0.000000</td>\n",
       "      <td>0.000000</td>\n",
       "      <td>0.000000</td>\n",
       "      <td>0.000000</td>\n",
       "      <td>8.000000</td>\n",
       "      <td>2009.000000</td>\n",
       "      <td>214000.000000</td>\n",
       "    </tr>\n",
       "    <tr>\n",
       "      <th>max</th>\n",
       "      <td>190.000000</td>\n",
       "      <td>313.000000</td>\n",
       "      <td>159000.000000</td>\n",
       "      <td>10.000000</td>\n",
       "      <td>9.000000</td>\n",
       "      <td>2010.000000</td>\n",
       "      <td>2010.000000</td>\n",
       "      <td>1600.000000</td>\n",
       "      <td>5.000000</td>\n",
       "      <td>5.000000</td>\n",
       "      <td>...</td>\n",
       "      <td>547.000000</td>\n",
       "      <td>432.000000</td>\n",
       "      <td>508.000000</td>\n",
       "      <td>490.000000</td>\n",
       "      <td>800.000000</td>\n",
       "      <td>5.000000</td>\n",
       "      <td>17000.000000</td>\n",
       "      <td>12.000000</td>\n",
       "      <td>2010.000000</td>\n",
       "      <td>611657.000000</td>\n",
       "    </tr>\n",
       "  </tbody>\n",
       "</table>\n",
       "<p>8 rows × 50 columns</p>\n",
       "</div>"
      ],
      "text/plain": [
       "       ms_subclass  lot_frontage       lot_area  overall_qual  overall_cond  \\\n",
       "count  2051.000000   1721.000000    2051.000000   2051.000000   2051.000000   \n",
       "mean     57.008776     69.055200   10065.208191      6.112140      5.562165   \n",
       "std      42.824223     23.260653    6742.488909      1.426271      1.104497   \n",
       "min      20.000000     21.000000    1300.000000      1.000000      1.000000   \n",
       "25%      20.000000     58.000000    7500.000000      5.000000      5.000000   \n",
       "50%      50.000000     68.000000    9430.000000      6.000000      5.000000   \n",
       "75%      70.000000     80.000000   11513.500000      7.000000      6.000000   \n",
       "max     190.000000    313.000000  159000.000000     10.000000      9.000000   \n",
       "\n",
       "        year_built  year_remod/add  mas_vnr_area   exter_qual    bsmt_qual  \\\n",
       "count  2051.000000     2051.000000   2029.000000  2051.000000  2051.000000   \n",
       "mean   1971.708922     1984.190151     99.695909     3.406143     3.490005   \n",
       "std      30.177889       21.036250    174.963129     0.587962     0.901637   \n",
       "min    1872.000000     1950.000000      0.000000     2.000000     0.000000   \n",
       "25%    1953.500000     1964.500000      0.000000     3.000000     3.000000   \n",
       "50%    1974.000000     1993.000000      0.000000     3.000000     4.000000   \n",
       "75%    2001.000000     2004.000000    161.000000     4.000000     4.000000   \n",
       "max    2010.000000     2010.000000   1600.000000     5.000000     5.000000   \n",
       "\n",
       "       ...  open_porch_sf  enclosed_porch   3ssn_porch  screen_porch  \\\n",
       "count  ...    2051.000000     2051.000000  2051.000000   2051.000000   \n",
       "mean   ...      47.556802       22.571916     2.591419     16.511458   \n",
       "std    ...      66.747241       59.845110    25.229615     57.374204   \n",
       "min    ...       0.000000        0.000000     0.000000      0.000000   \n",
       "25%    ...       0.000000        0.000000     0.000000      0.000000   \n",
       "50%    ...      27.000000        0.000000     0.000000      0.000000   \n",
       "75%    ...      70.000000        0.000000     0.000000      0.000000   \n",
       "max    ...     547.000000      432.000000   508.000000    490.000000   \n",
       "\n",
       "         pool_area      pool_qc      misc_val      mo_sold      yr_sold  \\\n",
       "count  2051.000000  2051.000000   2051.000000  2051.000000  2051.000000   \n",
       "mean      2.397855     0.015115     51.574354     6.219893  2007.775719   \n",
       "std      37.782570     0.236366    573.393985     2.744736     1.312014   \n",
       "min       0.000000     0.000000      0.000000     1.000000  2006.000000   \n",
       "25%       0.000000     0.000000      0.000000     4.000000  2007.000000   \n",
       "50%       0.000000     0.000000      0.000000     6.000000  2008.000000   \n",
       "75%       0.000000     0.000000      0.000000     8.000000  2009.000000   \n",
       "max     800.000000     5.000000  17000.000000    12.000000  2010.000000   \n",
       "\n",
       "           saleprice  \n",
       "count    2051.000000  \n",
       "mean   181469.701609  \n",
       "std     79258.659352  \n",
       "min     12789.000000  \n",
       "25%    129825.000000  \n",
       "50%    162500.000000  \n",
       "75%    214000.000000  \n",
       "max    611657.000000  \n",
       "\n",
       "[8 rows x 50 columns]"
      ]
     },
     "execution_count": 884,
     "metadata": {},
     "output_type": "execute_result"
    }
   ],
   "source": [
    "ames.describe()"
   ]
  },
  {
   "cell_type": "markdown",
   "metadata": {},
   "source": [
    "formating some columns"
   ]
  },
  {
   "cell_type": "code",
   "execution_count": 885,
   "metadata": {},
   "outputs": [],
   "source": [
    "ames['lot_total'] = ames['lot_frontage'] + ames['lot_area']\n",
    "ames['total_bsmt_sf'] = ames['bsmt_unf_sf'] + ames['bsmtfin_sf_2'] + ames['bsmtfin_sf_1']\n",
    "ames['gr_liv_area'] = ames['low_qual_fin_sf'] + ames['2nd_flr_sf'] + ames['1st_flr_sf']\n",
    "ames['porch_total'] = ames['screen_porch'] + ames['3ssn_porch'] + ames['enclosed_porch'] + ames['open_porch_sf'] + ames['wood_deck_sf']"
   ]
  },
  {
   "cell_type": "code",
   "execution_count": 886,
   "metadata": {},
   "outputs": [
    {
     "data": {
      "text/plain": [
       "ms_subclass       int64\n",
       "ms_zoning        object\n",
       "lot_frontage    float64\n",
       "lot_area          int64\n",
       "street           object\n",
       "                 ...   \n",
       "yr_sold           int64\n",
       "sale_type        object\n",
       "saleprice         int64\n",
       "lot_total       float64\n",
       "porch_total       int64\n",
       "Length: 81, dtype: object"
      ]
     },
     "execution_count": 886,
     "metadata": {},
     "output_type": "execute_result"
    }
   ],
   "source": [
    "ames.dtypes"
   ]
  },
  {
   "cell_type": "code",
   "execution_count": 887,
   "metadata": {},
   "outputs": [],
   "source": [
    "# for remaining NaN values we can fill column with mean or mode values\n",
    "def clean_data(ames):\n",
    "    for column in ames.columns:\n",
    "        if ames[column].dtype != 'O':\n",
    "            ames[column].fillna(ames[column].mean(), inplace = True)\n",
    "        else:\n",
    "            ames[column].fillna(ames[column].mode(), inplace = True)"
   ]
  },
  {
   "cell_type": "code",
   "execution_count": 888,
   "metadata": {},
   "outputs": [],
   "source": [
    "clean_data(ames)"
   ]
  },
  {
   "cell_type": "code",
   "execution_count": 889,
   "metadata": {
    "scrolled": true
   },
   "outputs": [],
   "source": [
    "ames['mas_vnr_type'].fillna('None', inplace = True)\n"
   ]
  },
  {
   "cell_type": "code",
   "execution_count": 890,
   "metadata": {},
   "outputs": [
    {
     "data": {
      "text/plain": [
       "0"
      ]
     },
     "execution_count": 890,
     "metadata": {},
     "output_type": "execute_result"
    }
   ],
   "source": [
    "ames.isnull().sum().sum()"
   ]
  },
  {
   "cell_type": "markdown",
   "metadata": {},
   "source": [
    "There is no more missing values"
   ]
  },
  {
   "cell_type": "markdown",
   "metadata": {},
   "source": [
    "## EDA"
   ]
  },
  {
   "cell_type": "code",
   "execution_count": 891,
   "metadata": {
    "scrolled": false
   },
   "outputs": [
    {
     "data": {
      "image/png": "[encoded data removed]",
      "text/plain": [
       "<Figure size 1440x720 with 1 Axes>"
      ]
     },
     "metadata": {
      "needs_background": "light"
     },
     "output_type": "display_data"
    }
   ],
   "source": [
    "plt.figure(figsize=(20, 10))\n",
    "zx = plt.gca()\n",
    "\n",
    "plt.hist(ames.saleprice, bins=24)\n",
    "plt.title(\"Distribution of Housing Prices in Ames\", fontsize=20)\n",
    "\n",
    "plt.xlabel('Sale Price', fontsize=25)\n",
    "plt.ylabel('Number of Houses', fontsize=25)\n",
    "\n",
    "plt.axvline(ames.saleprice.mean(), color='pink', label='mean_sale_price')\n",
    "plt.legend(fontsize=20);"
   ]
  },
  {
   "cell_type": "markdown",
   "metadata": {
    "scrolled": true
   },
   "source": [
    "The Sale Price values are right-skewed,that means mean is typically greater than the median,the tail of the distribution on the right hand (positive) side is longer than on the left hand side. Here pink line shows the mean sale price."
   ]
  },
  {
   "cell_type": "code",
   "execution_count": 892,
   "metadata": {},
   "outputs": [
    {
     "data": {
      "image/png": "[encoded data removed]",
      "text/plain": [
       "<Figure size 864x864 with 1 Axes>"
      ]
     },
     "metadata": {
      "needs_background": "light"
     },
     "output_type": "display_data"
    }
   ],
   "source": [
    "plt.figure(figsize=(12,12))\n",
    "sns.boxplot(x= 'overall_qual', y = 'saleprice', data=ames)\n",
    "plt.title('Price metrics at Each Quality Point');"
   ]
  },
  {
   "cell_type": "markdown",
   "metadata": {},
   "source": [
    "So there are Various qualities of houses which prices are labeled in y axis."
   ]
  },
  {
   "cell_type": "code",
   "execution_count": 893,
   "metadata": {},
   "outputs": [
    {
     "data": {
      "image/png": "[encoded data removed]",
      "text/plain": [
       "<Figure size 720x720 with 20 Axes>"
      ]
     },
     "metadata": {
      "needs_background": "light"
     },
     "output_type": "display_data"
    }
   ],
   "source": [
    "sns.pairplot(ames[['total_bsmt_sf', 'gr_liv_area', 'porch_total', 'saleprice']]);"
   ]
  },
  {
   "cell_type": "markdown",
   "metadata": {},
   "source": [
    " We picked some continuous variables to create this pairplot. Here like the sale price is right skewed as like the others too. And there is some outliers.let not keep all the outliers because it has effects in sale price."
   ]
  },
  {
   "cell_type": "code",
   "execution_count": 894,
   "metadata": {
    "scrolled": true
   },
   "outputs": [
    {
     "data": {
      "image/png": "[encoded data removed]",
      "text/plain": [
       "<Figure size 864x864 with 1 Axes>"
      ]
     },
     "metadata": {
      "needs_background": "light"
     },
     "output_type": "display_data"
    }
   ],
   "source": [
    "plt.figure(figsize=(12,12))\n",
    "sns.scatterplot(x= 'gr_liv_area', y = 'saleprice', data=ames)\n",
    "plt.title('Sale Price vs Ground living area square feet');"
   ]
  },
  {
   "cell_type": "markdown",
   "metadata": {},
   "source": [
    "Through it shows some outliers but ground living area has a better linear relationship with price"
   ]
  },
  {
   "cell_type": "code",
   "execution_count": 895,
   "metadata": {},
   "outputs": [
    {
     "data": {
      "text/plain": [
       "(2051, 81)"
      ]
     },
     "execution_count": 895,
     "metadata": {},
     "output_type": "execute_result"
    }
   ],
   "source": [
    "ames.shape"
   ]
  },
  {
   "cell_type": "code",
   "execution_count": 896,
   "metadata": {
    "scrolled": false
   },
   "outputs": [
    {
     "data": {
      "image/png": "[encoded data removed]",
      "text/plain": [
       "<Figure size 576x1080 with 2 Axes>"
      ]
     },
     "metadata": {
      "needs_background": "light"
     },
     "output_type": "display_data"
    }
   ],
   "source": [
    "# Creating heatmap \n",
    "\n",
    "plt.figure(figsize=(8, 15))\n",
    "\n",
    "\n",
    "sns.heatmap(ames.corr()[['saleprice']].sort_values('saleprice', ascending=False), \n",
    "            cmap='coolwarm',\n",
    "            vmin=-1,\n",
    "            vmax=1,\n",
    "            annot=True);\n",
    "plt.title('Correlation Coefficient Between Features and Sale Price', size=15)\n",
    "plt.ylabel('Features',size=13);"
   ]
  },
  {
   "cell_type": "markdown",
   "metadata": {},
   "source": [
    "Heatmaps are helpful because they can provide an efficient and comprehensive overview of a topic at-a-glance.Features with a value closer to 1 or -1 indicate a strong relationship to SalePrice.This heat map indicates dark side as these home features like Overall quality,Living area,1st floor full bath this effects high sale price rate on the other hand light side as porch,kitchen,build year pool area has low impact on price."
   ]
  },
  {
   "cell_type": "markdown",
   "metadata": {},
   "source": [
    "Creating dummies of categorical features"
   ]
  },
  {
   "cell_type": "code",
   "execution_count": 897,
   "metadata": {
    "scrolled": true
   },
   "outputs": [
    {
     "data": {
      "text/plain": [
       "(2051, 81)"
      ]
     },
     "execution_count": 897,
     "metadata": {},
     "output_type": "execute_result"
    }
   ],
   "source": [
    "ames.shape"
   ]
  },
  {
   "cell_type": "code",
   "execution_count": 898,
   "metadata": {},
   "outputs": [],
   "source": [
    "# Saving cleaned dataset: \n",
    "ames.to_csv('../datasets/cleaned_df.csv', index = False)"
   ]
  },
  {
   "cell_type": "code",
   "execution_count": 899,
   "metadata": {},
   "outputs": [],
   "source": [
    "ames = pd.get_dummies(data = ames,\n",
    "             columns = ['neighborhood', 'heating', 'lot_config', 'electrical',\n",
    "                       'ms_zoning', 'sale_type', 'ms_subclass'\n",
    "])"
   ]
  },
  {
   "cell_type": "code",
   "execution_count": 900,
   "metadata": {
    "scrolled": true
   },
   "outputs": [
    {
     "data": {
      "text/html": [
       "<div>\n",
       "<style scoped>\n",
       "    .dataframe tbody tr th:only-of-type {\n",
       "        vertical-align: middle;\n",
       "    }\n",
       "\n",
       "    .dataframe tbody tr th {\n",
       "        vertical-align: top;\n",
       "    }\n",
       "\n",
       "    .dataframe thead th {\n",
       "        text-align: right;\n",
       "    }\n",
       "</style>\n",
       "<table border=\"1\" class=\"dataframe\">\n",
       "  <thead>\n",
       "    <tr style=\"text-align: right;\">\n",
       "      <th></th>\n",
       "      <th>lot_frontage</th>\n",
       "      <th>lot_area</th>\n",
       "      <th>overall_qual</th>\n",
       "      <th>overall_cond</th>\n",
       "      <th>year_built</th>\n",
       "      <th>year_remod/add</th>\n",
       "      <th>mas_vnr_area</th>\n",
       "      <th>exter_qual</th>\n",
       "      <th>bsmt_qual</th>\n",
       "      <th>bsmt_cond</th>\n",
       "      <th>...</th>\n",
       "      <th>ms_subclass_70</th>\n",
       "      <th>ms_subclass_75</th>\n",
       "      <th>ms_subclass_80</th>\n",
       "      <th>ms_subclass_85</th>\n",
       "      <th>ms_subclass_90</th>\n",
       "      <th>ms_subclass_120</th>\n",
       "      <th>ms_subclass_150</th>\n",
       "      <th>ms_subclass_160</th>\n",
       "      <th>ms_subclass_180</th>\n",
       "      <th>ms_subclass_190</th>\n",
       "    </tr>\n",
       "  </thead>\n",
       "  <tbody>\n",
       "    <tr>\n",
       "      <th>count</th>\n",
       "      <td>2051.000000</td>\n",
       "      <td>2051.000000</td>\n",
       "      <td>2051.000000</td>\n",
       "      <td>2051.000000</td>\n",
       "      <td>2051.000000</td>\n",
       "      <td>2051.000000</td>\n",
       "      <td>2051.000000</td>\n",
       "      <td>2051.000000</td>\n",
       "      <td>2051.000000</td>\n",
       "      <td>2051.000000</td>\n",
       "      <td>...</td>\n",
       "      <td>2051.000000</td>\n",
       "      <td>2051.000000</td>\n",
       "      <td>2051.000000</td>\n",
       "      <td>2051.000000</td>\n",
       "      <td>2051.000000</td>\n",
       "      <td>2051.000000</td>\n",
       "      <td>2051.000000</td>\n",
       "      <td>2051.000000</td>\n",
       "      <td>2051.000000</td>\n",
       "      <td>2051.000000</td>\n",
       "    </tr>\n",
       "    <tr>\n",
       "      <th>mean</th>\n",
       "      <td>69.055200</td>\n",
       "      <td>10065.208191</td>\n",
       "      <td>6.112140</td>\n",
       "      <td>5.562165</td>\n",
       "      <td>1971.708922</td>\n",
       "      <td>1984.190151</td>\n",
       "      <td>99.695909</td>\n",
       "      <td>3.406143</td>\n",
       "      <td>3.490005</td>\n",
       "      <td>2.929303</td>\n",
       "      <td>...</td>\n",
       "      <td>0.043881</td>\n",
       "      <td>0.007801</td>\n",
       "      <td>0.041931</td>\n",
       "      <td>0.013652</td>\n",
       "      <td>0.036568</td>\n",
       "      <td>0.064359</td>\n",
       "      <td>0.000488</td>\n",
       "      <td>0.042906</td>\n",
       "      <td>0.005363</td>\n",
       "      <td>0.022428</td>\n",
       "    </tr>\n",
       "    <tr>\n",
       "      <th>std</th>\n",
       "      <td>21.306357</td>\n",
       "      <td>6742.488909</td>\n",
       "      <td>1.426271</td>\n",
       "      <td>1.104497</td>\n",
       "      <td>30.177889</td>\n",
       "      <td>21.036250</td>\n",
       "      <td>174.021770</td>\n",
       "      <td>0.587962</td>\n",
       "      <td>0.901637</td>\n",
       "      <td>0.572009</td>\n",
       "      <td>...</td>\n",
       "      <td>0.204880</td>\n",
       "      <td>0.088000</td>\n",
       "      <td>0.200480</td>\n",
       "      <td>0.116069</td>\n",
       "      <td>0.187743</td>\n",
       "      <td>0.245451</td>\n",
       "      <td>0.022081</td>\n",
       "      <td>0.202694</td>\n",
       "      <td>0.073055</td>\n",
       "      <td>0.148107</td>\n",
       "    </tr>\n",
       "    <tr>\n",
       "      <th>min</th>\n",
       "      <td>21.000000</td>\n",
       "      <td>1300.000000</td>\n",
       "      <td>1.000000</td>\n",
       "      <td>1.000000</td>\n",
       "      <td>1872.000000</td>\n",
       "      <td>1950.000000</td>\n",
       "      <td>0.000000</td>\n",
       "      <td>2.000000</td>\n",
       "      <td>0.000000</td>\n",
       "      <td>0.000000</td>\n",
       "      <td>...</td>\n",
       "      <td>0.000000</td>\n",
       "      <td>0.000000</td>\n",
       "      <td>0.000000</td>\n",
       "      <td>0.000000</td>\n",
       "      <td>0.000000</td>\n",
       "      <td>0.000000</td>\n",
       "      <td>0.000000</td>\n",
       "      <td>0.000000</td>\n",
       "      <td>0.000000</td>\n",
       "      <td>0.000000</td>\n",
       "    </tr>\n",
       "    <tr>\n",
       "      <th>25%</th>\n",
       "      <td>60.000000</td>\n",
       "      <td>7500.000000</td>\n",
       "      <td>5.000000</td>\n",
       "      <td>5.000000</td>\n",
       "      <td>1953.500000</td>\n",
       "      <td>1964.500000</td>\n",
       "      <td>0.000000</td>\n",
       "      <td>3.000000</td>\n",
       "      <td>3.000000</td>\n",
       "      <td>3.000000</td>\n",
       "      <td>...</td>\n",
       "      <td>0.000000</td>\n",
       "      <td>0.000000</td>\n",
       "      <td>0.000000</td>\n",
       "      <td>0.000000</td>\n",
       "      <td>0.000000</td>\n",
       "      <td>0.000000</td>\n",
       "      <td>0.000000</td>\n",
       "      <td>0.000000</td>\n",
       "      <td>0.000000</td>\n",
       "      <td>0.000000</td>\n",
       "    </tr>\n",
       "    <tr>\n",
       "      <th>50%</th>\n",
       "      <td>69.055200</td>\n",
       "      <td>9430.000000</td>\n",
       "      <td>6.000000</td>\n",
       "      <td>5.000000</td>\n",
       "      <td>1974.000000</td>\n",
       "      <td>1993.000000</td>\n",
       "      <td>0.000000</td>\n",
       "      <td>3.000000</td>\n",
       "      <td>4.000000</td>\n",
       "      <td>3.000000</td>\n",
       "      <td>...</td>\n",
       "      <td>0.000000</td>\n",
       "      <td>0.000000</td>\n",
       "      <td>0.000000</td>\n",
       "      <td>0.000000</td>\n",
       "      <td>0.000000</td>\n",
       "      <td>0.000000</td>\n",
       "      <td>0.000000</td>\n",
       "      <td>0.000000</td>\n",
       "      <td>0.000000</td>\n",
       "      <td>0.000000</td>\n",
       "    </tr>\n",
       "    <tr>\n",
       "      <th>75%</th>\n",
       "      <td>78.000000</td>\n",
       "      <td>11513.500000</td>\n",
       "      <td>7.000000</td>\n",
       "      <td>6.000000</td>\n",
       "      <td>2001.000000</td>\n",
       "      <td>2004.000000</td>\n",
       "      <td>159.000000</td>\n",
       "      <td>4.000000</td>\n",
       "      <td>4.000000</td>\n",
       "      <td>3.000000</td>\n",
       "      <td>...</td>\n",
       "      <td>0.000000</td>\n",
       "      <td>0.000000</td>\n",
       "      <td>0.000000</td>\n",
       "      <td>0.000000</td>\n",
       "      <td>0.000000</td>\n",
       "      <td>0.000000</td>\n",
       "      <td>0.000000</td>\n",
       "      <td>0.000000</td>\n",
       "      <td>0.000000</td>\n",
       "      <td>0.000000</td>\n",
       "    </tr>\n",
       "    <tr>\n",
       "      <th>max</th>\n",
       "      <td>313.000000</td>\n",
       "      <td>159000.000000</td>\n",
       "      <td>10.000000</td>\n",
       "      <td>9.000000</td>\n",
       "      <td>2010.000000</td>\n",
       "      <td>2010.000000</td>\n",
       "      <td>1600.000000</td>\n",
       "      <td>5.000000</td>\n",
       "      <td>5.000000</td>\n",
       "      <td>5.000000</td>\n",
       "      <td>...</td>\n",
       "      <td>1.000000</td>\n",
       "      <td>1.000000</td>\n",
       "      <td>1.000000</td>\n",
       "      <td>1.000000</td>\n",
       "      <td>1.000000</td>\n",
       "      <td>1.000000</td>\n",
       "      <td>1.000000</td>\n",
       "      <td>1.000000</td>\n",
       "      <td>1.000000</td>\n",
       "      <td>1.000000</td>\n",
       "    </tr>\n",
       "  </tbody>\n",
       "</table>\n",
       "<p>8 rows × 126 columns</p>\n",
       "</div>"
      ],
      "text/plain": [
       "       lot_frontage       lot_area  overall_qual  overall_cond   year_built  \\\n",
       "count   2051.000000    2051.000000   2051.000000   2051.000000  2051.000000   \n",
       "mean      69.055200   10065.208191      6.112140      5.562165  1971.708922   \n",
       "std       21.306357    6742.488909      1.426271      1.104497    30.177889   \n",
       "min       21.000000    1300.000000      1.000000      1.000000  1872.000000   \n",
       "25%       60.000000    7500.000000      5.000000      5.000000  1953.500000   \n",
       "50%       69.055200    9430.000000      6.000000      5.000000  1974.000000   \n",
       "75%       78.000000   11513.500000      7.000000      6.000000  2001.000000   \n",
       "max      313.000000  159000.000000     10.000000      9.000000  2010.000000   \n",
       "\n",
       "       year_remod/add  mas_vnr_area   exter_qual    bsmt_qual    bsmt_cond  \\\n",
       "count     2051.000000   2051.000000  2051.000000  2051.000000  2051.000000   \n",
       "mean      1984.190151     99.695909     3.406143     3.490005     2.929303   \n",
       "std         21.036250    174.021770     0.587962     0.901637     0.572009   \n",
       "min       1950.000000      0.000000     2.000000     0.000000     0.000000   \n",
       "25%       1964.500000      0.000000     3.000000     3.000000     3.000000   \n",
       "50%       1993.000000      0.000000     3.000000     4.000000     3.000000   \n",
       "75%       2004.000000    159.000000     4.000000     4.000000     3.000000   \n",
       "max       2010.000000   1600.000000     5.000000     5.000000     5.000000   \n",
       "\n",
       "       ...  ms_subclass_70  ms_subclass_75  ms_subclass_80  ms_subclass_85  \\\n",
       "count  ...     2051.000000     2051.000000     2051.000000     2051.000000   \n",
       "mean   ...        0.043881        0.007801        0.041931        0.013652   \n",
       "std    ...        0.204880        0.088000        0.200480        0.116069   \n",
       "min    ...        0.000000        0.000000        0.000000        0.000000   \n",
       "25%    ...        0.000000        0.000000        0.000000        0.000000   \n",
       "50%    ...        0.000000        0.000000        0.000000        0.000000   \n",
       "75%    ...        0.000000        0.000000        0.000000        0.000000   \n",
       "max    ...        1.000000        1.000000        1.000000        1.000000   \n",
       "\n",
       "       ms_subclass_90  ms_subclass_120  ms_subclass_150  ms_subclass_160  \\\n",
       "count     2051.000000      2051.000000      2051.000000      2051.000000   \n",
       "mean         0.036568         0.064359         0.000488         0.042906   \n",
       "std          0.187743         0.245451         0.022081         0.202694   \n",
       "min          0.000000         0.000000         0.000000         0.000000   \n",
       "25%          0.000000         0.000000         0.000000         0.000000   \n",
       "50%          0.000000         0.000000         0.000000         0.000000   \n",
       "75%          0.000000         0.000000         0.000000         0.000000   \n",
       "max          1.000000         1.000000         1.000000         1.000000   \n",
       "\n",
       "       ms_subclass_180  ms_subclass_190  \n",
       "count      2051.000000      2051.000000  \n",
       "mean          0.005363         0.022428  \n",
       "std           0.073055         0.148107  \n",
       "min           0.000000         0.000000  \n",
       "25%           0.000000         0.000000  \n",
       "50%           0.000000         0.000000  \n",
       "75%           0.000000         0.000000  \n",
       "max           1.000000         1.000000  \n",
       "\n",
       "[8 rows x 126 columns]"
      ]
     },
     "execution_count": 900,
     "metadata": {},
     "output_type": "execute_result"
    }
   ],
   "source": [
    "ames.describe()"
   ]
  },
  {
   "cell_type": "markdown",
   "metadata": {},
   "source": [
    "## Modeling"
   ]
  },
  {
   "cell_type": "markdown",
   "metadata": {},
   "source": [
    "#### Train-Test-Split"
   ]
  },
  {
   "cell_type": "markdown",
   "metadata": {},
   "source": [
    "Every numerical column (that is not our target) will be used as a feature.\n",
    "The SalePrice column is our label.\n",
    "In the cell below, we will create X and y variables.\n",
    "Then we'll use cross_val_score to get a baseline \n",
    "  for our model."
   ]
  },
  {
   "cell_type": "code",
   "execution_count": 901,
   "metadata": {
    "scrolled": true
   },
   "outputs": [
    {
     "data": {
      "text/html": [
       "<div>\n",
       "<style scoped>\n",
       "    .dataframe tbody tr th:only-of-type {\n",
       "        vertical-align: middle;\n",
       "    }\n",
       "\n",
       "    .dataframe tbody tr th {\n",
       "        vertical-align: top;\n",
       "    }\n",
       "\n",
       "    .dataframe thead th {\n",
       "        text-align: right;\n",
       "    }\n",
       "</style>\n",
       "<table border=\"1\" class=\"dataframe\">\n",
       "  <thead>\n",
       "    <tr style=\"text-align: right;\">\n",
       "      <th></th>\n",
       "      <th>lot_frontage</th>\n",
       "      <th>lot_area</th>\n",
       "      <th>street</th>\n",
       "      <th>alley</th>\n",
       "      <th>lot_shape</th>\n",
       "      <th>land_contour</th>\n",
       "      <th>utilities</th>\n",
       "      <th>land_slope</th>\n",
       "      <th>condition_1</th>\n",
       "      <th>condition_2</th>\n",
       "      <th>...</th>\n",
       "      <th>ms_subclass_70</th>\n",
       "      <th>ms_subclass_75</th>\n",
       "      <th>ms_subclass_80</th>\n",
       "      <th>ms_subclass_85</th>\n",
       "      <th>ms_subclass_90</th>\n",
       "      <th>ms_subclass_120</th>\n",
       "      <th>ms_subclass_150</th>\n",
       "      <th>ms_subclass_160</th>\n",
       "      <th>ms_subclass_180</th>\n",
       "      <th>ms_subclass_190</th>\n",
       "    </tr>\n",
       "  </thead>\n",
       "  <tbody>\n",
       "    <tr>\n",
       "      <th>0</th>\n",
       "      <td>69.0552</td>\n",
       "      <td>13517</td>\n",
       "      <td>Pave</td>\n",
       "      <td>0</td>\n",
       "      <td>IR1</td>\n",
       "      <td>Lvl</td>\n",
       "      <td>AllPub</td>\n",
       "      <td>Gtl</td>\n",
       "      <td>RRAe</td>\n",
       "      <td>Norm</td>\n",
       "      <td>...</td>\n",
       "      <td>0</td>\n",
       "      <td>0</td>\n",
       "      <td>0</td>\n",
       "      <td>0</td>\n",
       "      <td>0</td>\n",
       "      <td>0</td>\n",
       "      <td>0</td>\n",
       "      <td>0</td>\n",
       "      <td>0</td>\n",
       "      <td>0</td>\n",
       "    </tr>\n",
       "    <tr>\n",
       "      <th>1</th>\n",
       "      <td>43.0000</td>\n",
       "      <td>11492</td>\n",
       "      <td>Pave</td>\n",
       "      <td>0</td>\n",
       "      <td>IR1</td>\n",
       "      <td>Lvl</td>\n",
       "      <td>AllPub</td>\n",
       "      <td>Gtl</td>\n",
       "      <td>Norm</td>\n",
       "      <td>Norm</td>\n",
       "      <td>...</td>\n",
       "      <td>0</td>\n",
       "      <td>0</td>\n",
       "      <td>0</td>\n",
       "      <td>0</td>\n",
       "      <td>0</td>\n",
       "      <td>0</td>\n",
       "      <td>0</td>\n",
       "      <td>0</td>\n",
       "      <td>0</td>\n",
       "      <td>0</td>\n",
       "    </tr>\n",
       "    <tr>\n",
       "      <th>2</th>\n",
       "      <td>68.0000</td>\n",
       "      <td>7922</td>\n",
       "      <td>Pave</td>\n",
       "      <td>0</td>\n",
       "      <td>Reg</td>\n",
       "      <td>Lvl</td>\n",
       "      <td>AllPub</td>\n",
       "      <td>Gtl</td>\n",
       "      <td>Norm</td>\n",
       "      <td>Norm</td>\n",
       "      <td>...</td>\n",
       "      <td>0</td>\n",
       "      <td>0</td>\n",
       "      <td>0</td>\n",
       "      <td>0</td>\n",
       "      <td>0</td>\n",
       "      <td>0</td>\n",
       "      <td>0</td>\n",
       "      <td>0</td>\n",
       "      <td>0</td>\n",
       "      <td>0</td>\n",
       "    </tr>\n",
       "    <tr>\n",
       "      <th>3</th>\n",
       "      <td>73.0000</td>\n",
       "      <td>9802</td>\n",
       "      <td>Pave</td>\n",
       "      <td>0</td>\n",
       "      <td>Reg</td>\n",
       "      <td>Lvl</td>\n",
       "      <td>AllPub</td>\n",
       "      <td>Gtl</td>\n",
       "      <td>Norm</td>\n",
       "      <td>Norm</td>\n",
       "      <td>...</td>\n",
       "      <td>0</td>\n",
       "      <td>0</td>\n",
       "      <td>0</td>\n",
       "      <td>0</td>\n",
       "      <td>0</td>\n",
       "      <td>0</td>\n",
       "      <td>0</td>\n",
       "      <td>0</td>\n",
       "      <td>0</td>\n",
       "      <td>0</td>\n",
       "    </tr>\n",
       "    <tr>\n",
       "      <th>4</th>\n",
       "      <td>82.0000</td>\n",
       "      <td>14235</td>\n",
       "      <td>Pave</td>\n",
       "      <td>0</td>\n",
       "      <td>IR1</td>\n",
       "      <td>Lvl</td>\n",
       "      <td>AllPub</td>\n",
       "      <td>Gtl</td>\n",
       "      <td>Norm</td>\n",
       "      <td>Norm</td>\n",
       "      <td>...</td>\n",
       "      <td>0</td>\n",
       "      <td>0</td>\n",
       "      <td>0</td>\n",
       "      <td>0</td>\n",
       "      <td>0</td>\n",
       "      <td>0</td>\n",
       "      <td>0</td>\n",
       "      <td>0</td>\n",
       "      <td>0</td>\n",
       "      <td>0</td>\n",
       "    </tr>\n",
       "  </tbody>\n",
       "</table>\n",
       "<p>5 rows × 149 columns</p>\n",
       "</div>"
      ],
      "text/plain": [
       "   lot_frontage  lot_area street alley lot_shape land_contour utilities  \\\n",
       "0       69.0552     13517   Pave     0       IR1          Lvl    AllPub   \n",
       "1       43.0000     11492   Pave     0       IR1          Lvl    AllPub   \n",
       "2       68.0000      7922   Pave     0       Reg          Lvl    AllPub   \n",
       "3       73.0000      9802   Pave     0       Reg          Lvl    AllPub   \n",
       "4       82.0000     14235   Pave     0       IR1          Lvl    AllPub   \n",
       "\n",
       "  land_slope condition_1 condition_2  ... ms_subclass_70 ms_subclass_75  \\\n",
       "0        Gtl        RRAe        Norm  ...              0              0   \n",
       "1        Gtl        Norm        Norm  ...              0              0   \n",
       "2        Gtl        Norm        Norm  ...              0              0   \n",
       "3        Gtl        Norm        Norm  ...              0              0   \n",
       "4        Gtl        Norm        Norm  ...              0              0   \n",
       "\n",
       "   ms_subclass_80  ms_subclass_85  ms_subclass_90  ms_subclass_120  \\\n",
       "0               0               0               0                0   \n",
       "1               0               0               0                0   \n",
       "2               0               0               0                0   \n",
       "3               0               0               0                0   \n",
       "4               0               0               0                0   \n",
       "\n",
       "  ms_subclass_150 ms_subclass_160 ms_subclass_180 ms_subclass_190  \n",
       "0               0               0               0               0  \n",
       "1               0               0               0               0  \n",
       "2               0               0               0               0  \n",
       "3               0               0               0               0  \n",
       "4               0               0               0               0  \n",
       "\n",
       "[5 rows x 149 columns]"
      ]
     },
     "execution_count": 901,
     "metadata": {},
     "output_type": "execute_result"
    }
   ],
   "source": [
    "ames.head()"
   ]
  },
  {
   "cell_type": "code",
   "execution_count": 902,
   "metadata": {
    "scrolled": false
   },
   "outputs": [
    {
     "data": {
      "text/plain": [
       "lot_frontage       float64\n",
       "lot_area             int64\n",
       "street              object\n",
       "alley               object\n",
       "lot_shape           object\n",
       "                    ...   \n",
       "ms_subclass_120      uint8\n",
       "ms_subclass_150      uint8\n",
       "ms_subclass_160      uint8\n",
       "ms_subclass_180      uint8\n",
       "ms_subclass_190      uint8\n",
       "Length: 149, dtype: object"
      ]
     },
     "execution_count": 902,
     "metadata": {},
     "output_type": "execute_result"
    }
   ],
   "source": [
    "ames.dtypes"
   ]
  },
  {
   "cell_type": "code",
   "execution_count": 903,
   "metadata": {},
   "outputs": [
    {
     "data": {
      "text/plain": [
       "Index(['lot_frontage', 'lot_area', 'street', 'alley', 'lot_shape',\n",
       "       'land_contour', 'utilities', 'land_slope', 'condition_1', 'condition_2',\n",
       "       ...\n",
       "       'ms_subclass_70', 'ms_subclass_75', 'ms_subclass_80', 'ms_subclass_85',\n",
       "       'ms_subclass_90', 'ms_subclass_120', 'ms_subclass_150',\n",
       "       'ms_subclass_160', 'ms_subclass_180', 'ms_subclass_190'],\n",
       "      dtype='object', length=149)"
      ]
     },
     "execution_count": 903,
     "metadata": {},
     "output_type": "execute_result"
    }
   ],
   "source": [
    "ames.columns"
   ]
  },
  {
   "cell_type": "code",
   "execution_count": 904,
   "metadata": {},
   "outputs": [],
   "source": [
    "features = [col for col in ames._get_numeric_data().columns if col != 'SalePrice']\n",
    "X = ames[features]\n",
    "y = ames['saleprice']"
   ]
  },
  {
   "cell_type": "code",
   "execution_count": 905,
   "metadata": {},
   "outputs": [],
   "source": [
    "#train-test-spilt\n",
    "X_train, X_test, y_train, y_test = train_test_split(X, y, random_state= RANDOM_STATE)"
   ]
  },
  {
   "cell_type": "markdown",
   "metadata": {},
   "source": [
    "## Model Prep: Scaling\n",
    "---\n",
    "\n",
    "Since we're using `Linear`, `Lasso` and `Ridge`, we'll want to scale our features. In the cell below, fitting a `StandardScaler` to `X_train` and use it to transform both `X_train` and `X_test`.\n"
   ]
  },
  {
   "cell_type": "code",
   "execution_count": 906,
   "metadata": {},
   "outputs": [],
   "source": [
    "ss = StandardScaler()\n",
    "ss.fit(X_train)\n",
    "\n",
    "X_train_sc = ss.transform(X_train)\n",
    "X_test_sc = ss.transform(X_test)"
   ]
  },
  {
   "cell_type": "markdown",
   "metadata": {},
   "source": [
    "## Modeling"
   ]
  },
  {
   "cell_type": "markdown",
   "metadata": {},
   "source": [
    "#### Baseline Model\n",
    "\n"
   ]
  },
  {
   "cell_type": "code",
   "execution_count": 907,
   "metadata": {},
   "outputs": [],
   "source": [
    "from sklearn.dummy import DummyRegressor"
   ]
  },
  {
   "cell_type": "markdown",
   "metadata": {},
   "source": [
    "We create a baseline model that uses the mean of the target variable as the prediction for y for every entry. This is the simplest model we can make."
   ]
  },
  {
   "cell_type": "code",
   "execution_count": 908,
   "metadata": {},
   "outputs": [
    {
     "data": {
      "text/plain": [
       "DummyRegressor(constant=None, quantile=None, strategy='mean')"
      ]
     },
     "execution_count": 908,
     "metadata": {},
     "output_type": "execute_result"
    }
   ],
   "source": [
    "# Instantiate Baseline Model\n",
    "base = DummyRegressor()\n",
    "# Fit Baseline Model\n",
    "base.fit(X_train, y_train)"
   ]
  },
  {
   "cell_type": "code",
   "execution_count": 909,
   "metadata": {},
   "outputs": [
    {
     "data": {
      "text/plain": [
       "0.0"
      ]
     },
     "execution_count": 909,
     "metadata": {},
     "output_type": "execute_result"
    }
   ],
   "source": [
    "base.score(X_train, y_train)"
   ]
  },
  {
   "cell_type": "code",
   "execution_count": 910,
   "metadata": {},
   "outputs": [
    {
     "data": {
      "text/plain": [
       "-0.0036328726386705146"
      ]
     },
     "execution_count": 910,
     "metadata": {},
     "output_type": "execute_result"
    }
   ],
   "source": [
    "base.score(X_test, y_test)"
   ]
  },
  {
   "cell_type": "code",
   "execution_count": 911,
   "metadata": {},
   "outputs": [
    {
     "data": {
      "text/plain": [
       "-0.002113911130916568"
      ]
     },
     "execution_count": 911,
     "metadata": {},
     "output_type": "execute_result"
    }
   ],
   "source": [
    "cross_val_score(base, X, y, cv = 5).mean()"
   ]
  },
  {
   "cell_type": "code",
   "execution_count": 912,
   "metadata": {},
   "outputs": [
    {
     "data": {
      "text/plain": [
       "182635.0604681405"
      ]
     },
     "execution_count": 912,
     "metadata": {},
     "output_type": "execute_result"
    }
   ],
   "source": [
    "base.predict(X_test).mean()"
   ]
  },
  {
   "cell_type": "markdown",
   "metadata": {},
   "source": [
    "Our baseline model RMSE has a pretty large error, but this is the simplest model. Our other models should be an improvement from here. The lower test score indicates that our model is underfit."
   ]
  },
  {
   "cell_type": "markdown",
   "metadata": {},
   "source": [
    "####  Linear Regression"
   ]
  },
  {
   "cell_type": "markdown",
   "metadata": {},
   "source": [
    "instantiate model"
   ]
  },
  {
   "cell_type": "code",
   "execution_count": 913,
   "metadata": {},
   "outputs": [],
   "source": [
    "lr = LinearRegression()"
   ]
  },
  {
   "cell_type": "markdown",
   "metadata": {},
   "source": [
    "fit model"
   ]
  },
  {
   "cell_type": "code",
   "execution_count": 914,
   "metadata": {},
   "outputs": [
    {
     "data": {
      "text/plain": [
       "LinearRegression(copy_X=True, fit_intercept=True, n_jobs=None, normalize=False)"
      ]
     },
     "execution_count": 914,
     "metadata": {},
     "output_type": "execute_result"
    }
   ],
   "source": [
    "lr.fit(X_train_sc, y_train)"
   ]
  },
  {
   "cell_type": "markdown",
   "metadata": {},
   "source": [
    "train score"
   ]
  },
  {
   "cell_type": "code",
   "execution_count": 915,
   "metadata": {},
   "outputs": [
    {
     "data": {
      "text/plain": [
       "1.0"
      ]
     },
     "execution_count": 915,
     "metadata": {},
     "output_type": "execute_result"
    }
   ],
   "source": [
    "lr.score(X_train_sc, y_train)"
   ]
  },
  {
   "cell_type": "markdown",
   "metadata": {},
   "source": [
    "test score"
   ]
  },
  {
   "cell_type": "code",
   "execution_count": 916,
   "metadata": {},
   "outputs": [
    {
     "data": {
      "text/plain": [
       "0.9999999991795191"
      ]
     },
     "execution_count": 916,
     "metadata": {},
     "output_type": "execute_result"
    }
   ],
   "source": [
    "lr.score(X_test_sc, y_test) "
   ]
  },
  {
   "cell_type": "markdown",
   "metadata": {},
   "source": [
    "These values are much better than the baseline model"
   ]
  },
  {
   "cell_type": "markdown",
   "metadata": {},
   "source": [
    "#### Ridge"
   ]
  },
  {
   "cell_type": "code",
   "execution_count": 917,
   "metadata": {},
   "outputs": [],
   "source": [
    "ridge = Ridge(alpha= 10)"
   ]
  },
  {
   "cell_type": "code",
   "execution_count": 918,
   "metadata": {},
   "outputs": [],
   "source": [
    "ridge.fit(X_train_sc, y_train);"
   ]
  },
  {
   "cell_type": "code",
   "execution_count": 919,
   "metadata": {},
   "outputs": [
    {
     "data": {
      "text/plain": [
       "0.9996641656768397"
      ]
     },
     "execution_count": 919,
     "metadata": {},
     "output_type": "execute_result"
    }
   ],
   "source": [
    "ridge.score(X_train_sc, y_train)"
   ]
  },
  {
   "cell_type": "code",
   "execution_count": 920,
   "metadata": {
    "scrolled": true
   },
   "outputs": [
    {
     "data": {
      "text/plain": [
       "0.9996454680459554"
      ]
     },
     "execution_count": 920,
     "metadata": {},
     "output_type": "execute_result"
    }
   ],
   "source": [
    "ridge.score(X_test_sc, y_test)"
   ]
  },
  {
   "cell_type": "markdown",
   "metadata": {},
   "source": [
    "These values are much better than the baseline model"
   ]
  },
  {
   "cell_type": "markdown",
   "metadata": {},
   "source": [
    "#### Lasso"
   ]
  },
  {
   "cell_type": "code",
   "execution_count": 921,
   "metadata": {},
   "outputs": [],
   "source": [
    "lasso = LassoCV()"
   ]
  },
  {
   "cell_type": "code",
   "execution_count": 922,
   "metadata": {},
   "outputs": [
    {
     "data": {
      "text/plain": [
       "LassoCV(alphas=None, copy_X=True, cv=None, eps=0.001, fit_intercept=True,\n",
       "        max_iter=1000, n_alphas=100, n_jobs=None, normalize=False,\n",
       "        positive=False, precompute='auto', random_state=None,\n",
       "        selection='cyclic', tol=0.0001, verbose=False)"
      ]
     },
     "execution_count": 922,
     "metadata": {},
     "output_type": "execute_result"
    }
   ],
   "source": [
    "lasso.fit(X_train_sc, y_train)"
   ]
  },
  {
   "cell_type": "code",
   "execution_count": 923,
   "metadata": {},
   "outputs": [
    {
     "data": {
      "text/plain": [
       "0.999999"
      ]
     },
     "execution_count": 923,
     "metadata": {},
     "output_type": "execute_result"
    }
   ],
   "source": [
    "lasso.score(X_train_sc, y_train)"
   ]
  },
  {
   "cell_type": "code",
   "execution_count": 924,
   "metadata": {},
   "outputs": [
    {
     "data": {
      "text/plain": [
       "0.9999989963671275"
      ]
     },
     "execution_count": 924,
     "metadata": {},
     "output_type": "execute_result"
    }
   ],
   "source": [
    "lasso.score(X_test_sc, y_test)"
   ]
  },
  {
   "cell_type": "markdown",
   "metadata": {},
   "source": [
    "These values are much better than the baseline model"
   ]
  },
  {
   "cell_type": "markdown",
   "metadata": {},
   "source": [
    "## Model Selection "
   ]
  },
  {
   "cell_type": "code",
   "execution_count": 925,
   "metadata": {
    "scrolled": true
   },
   "outputs": [
    {
     "name": "stdout",
     "output_type": "stream",
     "text": [
      "Training Score of Baseline model: 0.0\n",
      "Testing Score of Baseline model : -0.0036328726386705146\n",
      "\n",
      "Training Score of Linear model  : 1.0\n",
      "Testing Score of Linear model   : 0.9999999991795191\n",
      "\n",
      "Training Score of Ridge model   : 0.9996641656768397\n",
      "Testing Score of Ridge model    : 0.9996454680459554\n",
      "\n",
      "Training Score of Lasso model   : 0.999999\n",
      "Testing Score of Lasso model    : 0.9999989963671275\n"
     ]
    }
   ],
   "source": [
    "print(f'Training Score of Baseline model: {base.score(X_train, y_train)}')\n",
    "print(f'Testing Score of Baseline model : {base.score(X_test, y_test)}')\n",
    "print( )\n",
    "print(f'Training Score of Linear model  : {lr.score(X_train_sc, y_train)}')\n",
    "print(f'Testing Score of Linear model   : {lr.score(X_test_sc, y_test)}')\n",
    "print( )\n",
    "print(f'Training Score of Ridge model   : {ridge.score(X_train_sc, y_train)}') \n",
    "print(f'Testing Score of Ridge model    : {ridge.score(X_test_sc, y_test)}')\n",
    "print()\n",
    "print(f'Training Score of Lasso model   : {lasso.score(X_train_sc, y_train)}')\n",
    "print(f'Testing Score of Lasso model    : {lasso.score(X_test_sc, y_test)}')"
   ]
  },
  {
   "cell_type": "code",
   "execution_count": 926,
   "metadata": {},
   "outputs": [
    {
     "name": "stdout",
     "output_type": "stream",
     "text": [
      "RMSE of Baseline model: 77440.88898246168\n",
      "RMSE of Lasso model: 77.4408889824661\n",
      "RMSE of Linear model: 2.214201530135964\n",
      "RMSE of Ridge model: 1455.4945486204433\n"
     ]
    }
   ],
   "source": [
    "print(f'RMSE of Baseline model: {np.sqrt(mean_squared_error(y_test, base.predict(X_test)))}')\n",
    "                                 \n",
    "\n",
    "print(f'RMSE of Lasso model: {np.sqrt(mean_squared_error(y_test, lasso.predict(X_test_sc)))}')\n",
    "\n",
    "print(f'RMSE of Linear model: {np.sqrt(mean_squared_error(y_test, lr.predict(X_test_sc)))}')\n",
    "\n",
    "print(f'RMSE of Ridge model: {np.sqrt(mean_squared_error(y_test, ridge.predict(X_test_sc)))}')"
   ]
  },
  {
   "cell_type": "markdown",
   "metadata": {},
   "source": [
    "Linear,Ridge and Lasso are returning much better score than Baseline. and they are reducing or eliminating the effect of collinear features.lets use metric RMSE to find absolute measure of fit.Lower values of RMSE indicate better fit."
   ]
  },
  {
   "cell_type": "markdown",
   "metadata": {},
   "source": [
    "Thus the Linear Model is the best predictor of our data."
   ]
  },
  {
   "cell_type": "markdown",
   "metadata": {},
   "source": [
    "## Model evalution"
   ]
  },
  {
   "cell_type": "code",
   "execution_count": 927,
   "metadata": {},
   "outputs": [],
   "source": [
    "test_preds = lr.predict(X_test)\n",
    "test_resids = y_test - test_preds"
   ]
  },
  {
   "cell_type": "code",
   "execution_count": 928,
   "metadata": {},
   "outputs": [],
   "source": [
    "train_preds = lr.predict(X_train)\n",
    "train_resids = y_train - train_preds"
   ]
  },
  {
   "cell_type": "markdown",
   "metadata": {},
   "source": [
    " Visualizing residuals"
   ]
  },
  {
   "cell_type": "code",
   "execution_count": 929,
   "metadata": {
    "scrolled": false
   },
   "outputs": [
    {
     "data": {
      "image/png": "[encoded data removed]",
      "text/plain": [
       "<Figure size 720x720 with 1 Axes>"
      ]
     },
     "metadata": {
      "needs_background": "light"
     },
     "output_type": "display_data"
    }
   ],
   "source": [
    "plt.figure(figsize = (10,10))\n",
    "\n",
    "\n",
    "sns.scatterplot(x = train_resids,y = train_resids, alpha = .5)\n",
    "plt.title('Training Residuals', size = 15)\n",
    "plt.xlabel('Training Predictions', size = 15)\n",
    "plt.ylabel('Sale Price', size = 15);"
   ]
  },
  {
   "cell_type": "markdown",
   "metadata": {},
   "source": [
    "This looks like there is a increasing relationship between training prediction and sale price"
   ]
  },
  {
   "cell_type": "code",
   "execution_count": 930,
   "metadata": {
    "scrolled": false
   },
   "outputs": [
    {
     "data": {
      "image/png": "[encoded data removed]",
      "text/plain": [
       "<Figure size 720x720 with 1 Axes>"
      ]
     },
     "metadata": {
      "needs_background": "light"
     },
     "output_type": "display_data"
    }
   ],
   "source": [
    "plt.figure(figsize = (10,10))\n",
    "\n",
    "sns.scatterplot(x = test_resids,y = test_resids, alpha = .5)\n",
    "plt.title('Testing Residuals', size = 15)\n",
    "plt.xlabel('Testing Predictions', size = 15)\n",
    "plt.ylabel('Sale Price', size = 15);"
   ]
  },
  {
   "cell_type": "markdown",
   "metadata": {},
   "source": [
    "This looks like there is a increasing relationship between testing prediction and sale price."
   ]
  },
  {
   "cell_type": "code",
   "execution_count": 931,
   "metadata": {},
   "outputs": [
    {
     "data": {
      "text/plain": [
       "182635.06046814044"
      ]
     },
     "execution_count": 931,
     "metadata": {},
     "output_type": "execute_result"
    }
   ],
   "source": [
    "lr.intercept_"
   ]
  },
  {
   "cell_type": "code",
   "execution_count": 932,
   "metadata": {
    "scrolled": true
   },
   "outputs": [
    {
     "data": {
      "text/plain": [
       "array([-6.53592908e-11,  9.82254278e-11, -5.63886715e-11,  1.36424205e-12,\n",
       "       -6.36646291e-12, -3.36513040e-11, -1.81898940e-12,  4.00177669e-11,\n",
       "       -2.18278728e-11, -2.54658516e-11,  1.81898940e-11,  7.27595761e-12,\n",
       "        9.47123518e+00, -1.09139364e-11,  3.43363816e+00,  9.04806309e+00,\n",
       "       -9.25431156e+00, -1.00044417e-11, -1.10888619e+01, -1.17321709e+01,\n",
       "       -1.42101299e+00,  1.39455342e+01,  2.36468622e-11,  0.00000000e+00,\n",
       "        9.09494702e-13,  2.45563569e-11,  2.86490831e-11, -4.25188773e-11,\n",
       "        3.63797881e-12, -1.93267624e-12, -4.54747351e-12,  1.86446414e-11,\n",
       "        2.81943358e-11, -2.59205990e-11, -4.36557457e-11,  6.18456397e-11,\n",
       "        1.40971679e-11, -2.09183781e-11, -8.19961746e+00, -4.42159269e+00,\n",
       "       -3.96984191e+00, -1.60616044e+00, -3.65182139e+00,  2.27373675e-11,\n",
       "       -1.54614099e-11,  4.09272616e-12, -1.09139364e-11,  2.72848411e-12,\n",
       "        7.98415387e+04, -8.36735126e-11,  1.02957648e+01, -1.21820610e+00,\n",
       "       -6.83454381e-01, -1.21820610e+00, -2.30602252e+00, -1.36020490e+00,\n",
       "       -3.33984611e+00, -2.22948920e+00, -2.90450213e+00, -2.71283884e+00,\n",
       "       -5.29746711e-01, -4.32677247e-01, -2.20987283e+00, -3.06048592e-01,\n",
       "       -1.17991041e+00, -2.48535766e+00, -4.31975973e+00, -1.17991041e+00,\n",
       "       -2.48535766e+00, -1.81526347e+00, -2.80338437e+00, -3.14529129e+00,\n",
       "       -1.54780420e+00, -2.71283884e+00, -2.34319600e+00, -3.02810686e+00,\n",
       "       -1.71372419e+00, -1.86376383e+00, -1.01174091e+00,  6.38742270e+00,\n",
       "        4.75106131e+00,  2.87155705e+00,  1.43718180e+00,  2.87155705e+00,\n",
       "        7.52828177e+00,  4.93694974e+00,  3.53310139e+00,  1.25405250e+00,\n",
       "        8.91583451e+00,  7.51701239e+00,  3.95003597e+00,  1.98870413e+00,\n",
       "        1.36424205e-12,  8.55303880e+00,  1.21623580e+00,  5.27031454e+00,\n",
       "        1.06574458e+01,  1.21623580e+00,  4.36804844e+00,  1.97992489e+01,\n",
       "        1.68618208e+01,  1.76222796e+00,  7.80907031e-01,  4.51740630e-01,\n",
       "        9.37305000e-01,  4.51740630e-01,  4.51740630e-01,  2.69293398e+00,\n",
       "        4.51740630e-01,  3.41411880e+00, -1.97239148e+01, -8.61648445e+00,\n",
       "       -1.78798835e+00, -3.09082818e+00, -1.17680631e+01, -1.59135969e+01,\n",
       "       -8.56018400e+00, -3.09082818e+00, -8.27167770e+00, -4.35820759e+00,\n",
       "       -7.32421261e+00, -9.80320564e+00,  0.00000000e+00, -8.50342915e+00,\n",
       "       -2.72763643e+00, -5.78412063e+00])"
      ]
     },
     "execution_count": 932,
     "metadata": {},
     "output_type": "execute_result"
    }
   ],
   "source": [
    "lr.coef_"
   ]
  },
  {
   "cell_type": "code",
   "execution_count": 933,
   "metadata": {},
   "outputs": [
    {
     "data": {
      "text/plain": [
       "(126,)"
      ]
     },
     "execution_count": 933,
     "metadata": {},
     "output_type": "execute_result"
    }
   ],
   "source": [
    "lr.coef_.shape"
   ]
  },
  {
   "cell_type": "code",
   "execution_count": 934,
   "metadata": {},
   "outputs": [],
   "source": [
    "coef = pd.DataFrame(features, lr.coef_)\n"
   ]
  },
  {
   "cell_type": "code",
   "execution_count": 935,
   "metadata": {},
   "outputs": [
    {
     "name": "stdout",
     "output_type": "stream",
     "text": [
      "                                  0\n",
      " 7.984154e+04             saleprice\n",
      " 1.979925e+01          ms_zoning_RL\n",
      " 1.686182e+01          ms_zoning_RM\n",
      " 1.394553e+01           gr_liv_area\n",
      " 1.065745e+01          ms_zoning_FV\n",
      " 1.029576e+01           porch_total\n",
      " 9.471235e+00          bsmtfin_sf_1\n",
      " 9.048063e+00           bsmt_unf_sf\n",
      " 8.915835e+00     lot_config_Inside\n",
      " 8.553039e+00      electrical_SBrkr\n",
      " 7.528282e+00     lot_config_Corner\n",
      " 7.517012e+00      electrical_FuseA\n",
      " 6.387423e+00          heating_GasA\n",
      " 5.270315e+00     ms_zoning_C (all)\n",
      " 4.936950e+00    lot_config_CulDSac\n",
      " 4.751061e+00          heating_GasW\n",
      " 4.368048e+00          ms_zoning_RH\n",
      " 3.950036e+00      electrical_FuseF\n",
      " 3.533101e+00        lot_config_FR2\n",
      " 3.433638e+00          bsmtfin_sf_2\n",
      " 3.414119e+00         sale_type_WD \n",
      " 2.871557e+00          heating_Grav\n",
      " 2.871557e+00          heating_Wall\n",
      " 2.692934e+00         sale_type_New\n",
      " 1.988704e+00      electrical_FuseP\n",
      " 1.762228e+00         sale_type_COD\n",
      " 1.437182e+00          heating_OthW\n",
      " 1.254053e+00        lot_config_FR3\n",
      " 1.216236e+00     ms_zoning_I (all)\n",
      " 1.216236e+00     ms_zoning_A (agr)\n",
      " 9.373050e-01       sale_type_ConLD\n",
      " 7.809070e-01         sale_type_CWD\n",
      " 4.517406e-01         sale_type_Con\n",
      " 4.517406e-01       sale_type_ConLw\n",
      " 4.517406e-01       sale_type_ConLI\n",
      " 4.517406e-01         sale_type_Oth\n",
      " 9.822543e-11              lot_area\n",
      " 6.184564e-11           garage_area\n",
      " 4.001777e-11            exter_qual\n",
      " 2.864908e-11         bedroom_abvgr\n",
      " 2.819434e-11         garage_yr_blt\n",
      " 2.455636e-11             half_bath\n",
      " 2.364686e-11        bsmt_full_bath\n",
      " 2.273737e-11             pool_area\n",
      " 1.864464e-11          fireplace_qu\n",
      " 1.818989e-11         bsmt_exposure\n",
      " 1.409717e-11           garage_qual\n",
      " 7.275958e-12        bsmtfin_type_1\n",
      " 4.092726e-12              misc_val\n",
      " 3.637979e-12          kitchen_qual\n",
      " 2.728484e-12               yr_sold\n",
      " 1.364242e-12          overall_cond\n",
      " 1.364242e-12        electrical_Mix\n",
      " 9.094947e-13             full_bath\n",
      " 0.000000e+00       ms_subclass_150\n",
      " 0.000000e+00        bsmt_half_bath\n",
      "-1.818989e-12          mas_vnr_area\n",
      "-1.932676e-12         totrms_abvgrd\n",
      "-4.547474e-12            fireplaces\n",
      "-6.366463e-12            year_built\n",
      "-1.000444e-11            heating_qc\n",
      "-1.091394e-11               mo_sold\n",
      "-1.091394e-11        bsmtfin_type_2\n",
      "-1.546141e-11               pool_qc\n",
      "-2.091838e-11           garage_cond\n",
      "-2.182787e-11             bsmt_qual\n",
      "-2.546585e-11             bsmt_cond\n",
      "-2.592060e-11         garage_finish\n",
      "-3.365130e-11        year_remod/add\n",
      "-4.251888e-11         kitchen_abvgr\n",
      "-4.365575e-11           garage_cars\n",
      "-5.638867e-11          overall_qual\n",
      "-6.535929e-11          lot_frontage\n",
      "-8.367351e-11             lot_total\n",
      "-3.060486e-01  neighborhood_Landmrk\n",
      "-4.326772e-01  neighborhood_GrnHill\n",
      "-5.297467e-01   neighborhood_Greens\n",
      "-6.834544e-01  neighborhood_Blueste\n",
      "-1.011741e+00  neighborhood_Veenker\n",
      "-1.179910e+00  neighborhood_MeadowV\n",
      "-1.179910e+00  neighborhood_NPkVill\n",
      "-1.218206e+00  neighborhood_Blmngtn\n",
      "-1.218206e+00   neighborhood_BrDale\n",
      "-1.360205e+00  neighborhood_ClearCr\n",
      "-1.421013e+00       low_qual_fin_sf\n",
      "-1.547804e+00    neighborhood_SWISU\n",
      "-1.606160e+00            3ssn_porch\n",
      "-1.713724e+00  neighborhood_StoneBr\n",
      "-1.787988e+00        ms_subclass_40\n",
      "-1.815263e+00  neighborhood_NoRidge\n",
      "-1.863764e+00   neighborhood_Timber\n",
      "-2.209873e+00   neighborhood_IDOTRR\n",
      "-2.229489e+00  neighborhood_Crawfor\n",
      "-2.306023e+00  neighborhood_BrkSide\n",
      "-2.343196e+00  neighborhood_SawyerW\n",
      "-2.485358e+00  neighborhood_Mitchel\n",
      "-2.485358e+00   neighborhood_NWAmes\n",
      "-2.712839e+00  neighborhood_Gilbert\n",
      "-2.712839e+00   neighborhood_Sawyer\n",
      "-2.727636e+00       ms_subclass_180\n",
      "-2.803384e+00  neighborhood_NridgHt\n",
      "-2.904502e+00  neighborhood_Edwards\n",
      "-3.028107e+00  neighborhood_Somerst\n",
      "-3.090828e+00        ms_subclass_45\n",
      "-3.090828e+00        ms_subclass_75\n",
      "-3.145291e+00  neighborhood_OldTown\n",
      "-3.339846e+00  neighborhood_CollgCr\n",
      "-3.651821e+00          screen_porch\n",
      "-3.969842e+00        enclosed_porch\n",
      "-4.319760e+00    neighborhood_NAmes\n",
      "-4.358208e+00        ms_subclass_85\n",
      "-4.421593e+00         open_porch_sf\n",
      "-5.784121e+00       ms_subclass_190\n",
      "-7.324213e+00        ms_subclass_90\n",
      "-8.199617e+00          wood_deck_sf\n",
      "-8.271678e+00        ms_subclass_80\n",
      "-8.503429e+00       ms_subclass_160\n",
      "-8.560184e+00        ms_subclass_70\n",
      "-8.616484e+00        ms_subclass_30\n",
      "-9.254312e+00         total_bsmt_sf\n",
      "-9.803206e+00       ms_subclass_120\n",
      "-1.108886e+01            1st_flr_sf\n",
      "-1.173217e+01            2nd_flr_sf\n",
      "-1.176806e+01        ms_subclass_50\n",
      "-1.591360e+01        ms_subclass_60\n",
      "-1.972391e+01        ms_subclass_20\n"
     ]
    }
   ],
   "source": [
    "print(coef.sort_index(ascending= False).to_string())"
   ]
  },
  {
   "cell_type": "markdown",
   "metadata": {},
   "source": [
    "These are the coefficients to our linear model. They are all being scaled to compare each other directly."
   ]
  },
  {
   "cell_type": "code",
   "execution_count": 936,
   "metadata": {
    "scrolled": true
   },
   "outputs": [
    {
     "data": {
      "image/png": "[encoded data removed]",
      "text/plain": [
       "<Figure size 720x720 with 1 Axes>"
      ]
     },
     "metadata": {
      "needs_background": "light"
     },
     "output_type": "display_data"
    }
   ],
   "source": [
    "plt.figure(figsize = (10 , 10))\n",
    "plt.scatter(train_preds,y_train)\n",
    "\n",
    "plt.title(\"Predictions vs Actual Prices\", fontsize = 26)\n",
    "plt.xlabel(\"prediction\" , fontsize = 18)\n",
    "plt.ylabel(\"Actual Price\" , fontsize = 18);"
   ]
  },
  {
   "cell_type": "markdown",
   "metadata": {},
   "source": [
    "It's look like our preedicted price is almost Similar to our Actual price.And it is in increasing Relationships."
   ]
  },
  {
   "cell_type": "markdown",
   "metadata": {},
   "source": [
    "<!-- There is a Strong, positive and Linear relationship between predicted price and true price of Housing dataset.In general, the independent variable(the variable that isn't influenced by anything) is on the x-axis, and the dependent variable (the one that is affected by the independent variable) is plotted on the y-axis. This model is overfit but with Low bias &  high variance.\n",
    "Thus predicted price and True price are almost accurate. through there is some differences but maximum time predicted price is similar to the true price.\n",
    " -->"
   ]
  },
  {
   "cell_type": "markdown",
   "metadata": {},
   "source": [
    "## Conclusion & Recommendations"
   ]
  },
  {
   "cell_type": "markdown",
   "metadata": {},
   "source": [
    "Our analysis began with a relatively clean dataset of over 2,000 home sales in Ames, IA between 2007 and 2010. We applied a linear regression model which highlighted the properties above-ground square footage as the most heavily-weighted feature in predicting sale price. Basement square footage, the build year, an overall quality rating of “excellent,” and square footage of finished basement rounded out the most influential features. The model currently has an RMSE of 18.33985602."
   ]
  },
  {
   "cell_type": "markdown",
   "metadata": {},
   "source": [
    "## References"
   ]
  },
  {
   "cell_type": "markdown",
   "metadata": {},
   "source": [
    "Review the [data description](http://jse.amstat.org/v19n3/decock/DataDocumentation.txt)"
   ]
  },
  {
   "cell_type": "markdown",
   "metadata": {},
   "source": [
    "-----"
   ]
  }
 ],
 "metadata": {
  "kernelspec": {
   "display_name": "Python 3",
   "language": "python",
   "name": "python3"
  },
  "language_info": {
   "codemirror_mode": {
    "name": "ipython",
    "version": 3
   },
   "file_extension": ".py",
   "mimetype": "text/x-python",
   "name": "python",
   "nbconvert_exporter": "python",
   "pygments_lexer": "ipython3",
   "version": "3.7.6"
  }
 },
 "nbformat": 4,
 "nbformat_minor": 4
}
